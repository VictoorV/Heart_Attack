{
 "cells": [
  {
   "cell_type": "code",
   "execution_count": 1,
   "id": "048f4ddd",
   "metadata": {},
   "outputs": [],
   "source": [
    "from ucimlrepo import fetch_ucirepo \n",
    "import pandas as pd\n",
    "\n",
    "# fetch dataset \n",
    "heart_disease = fetch_ucirepo(id=45) \n",
    "\n",
    "# data (as pandas dataframes) \n",
    "features = heart_disease.data.features\n",
    "target = heart_disease.data.targets\n",
    "\n",
    "data = pd.concat([features, target], axis=1)"
   ]
  },
  {
   "cell_type": "markdown",
   "id": "a710981d",
   "metadata": {},
   "source": [
    "# **Objectif :** Prédire si un individu aura une maladie cardiaque avec f1>80%\n"
   ]
  },
  {
   "cell_type": "markdown",
   "id": "3ea61620",
   "metadata": {},
   "source": [
    "# 1. Exploration des données \n",
    "\n",
    "## Checklist\n",
    "\n",
    "### Analyse de forme\n",
    "- **Variable target :** 'num' (5 valeurs), présence et gravité de la maladie cardiaque, regroupement en 2 classes : 0 pas de présence et 1 présence\n",
    "- **Nombre de lignes/colonnes :** 303 lignes et 14 colonnes\n",
    "- **Type des variables :** 11 variables discètes et 3 variables continues (les données ont été encodées donc il y a des variables catégorielles cachées)\n",
    "- **Analyse des variables manquantes :** 4 NaN sur la colonne 'ca' et 2 NaN sur la colonne 'thal'\n",
    "\n",
    "### Analyse de fond\n",
    "- **Analyse de la variable target :** 'num' 0 (rien) : 54%, 1 : 18 %, 2 : 12%, 3 : 12%, 4 : 4% et avec regroupement : 0 54% et 1 46%\n",
    "\n",
    "En gras les variables qualitatives\n",
    "- **Signification des variables :** \n",
    "    - 'age'\n",
    "    - **'sexe'**\n",
    "    - **'cp'** : type de douleur toracique (1 typique à l'angine, 2 non typique à l'angine, 3 non lié à l'angine, 4 rien)\n",
    "    - 'trestbps' : pression artérielle au repos (en millimètres de mercure, mm Hg)\n",
    "    - 'chol' : cholestérol (en milligrammes par décilitre, mg/dl)\n",
    "    - **'fbs'** : glycémie à jeun > 120 mg/dl (1/0)\n",
    "    - **'restecg'** : résultats de l'électrocardiogramme au repos (0 rien, 1 diminution du flux sanguin vers le coeur, 2 hypertrophie ventriculaire)\n",
    "    - 'thalach' : fréquence cardiaque maximale atteinte (en bpm)\n",
    "    - **'exang'** : angine induite par l'exercice (1/0)\n",
    "    - 'oldpeak' : dépression du segment ST (en mm)\n",
    "    - **'slope'** : forme de la pente du segment ST (0 pente ascendante, 1 pente plate, 2 pente descendante)\n",
    "    - 'ca' : nombre d'artères bouchées (0-3)\n",
    "    - **'thal'** : circulation sanguine dans le coeur (3 ok, 6 indique des zones abimées même au repos, 7 indique des zones abimées mais ok au repos)\n",
    "- **Visualisation des variables :**\n",
    "    - données continues : Seulement oldpeak, distribution asymétrique, beaucoup de valeur en 0\n",
    "    - données entières : les données semblent suivre une distribution normale sauf pour le nombre d'artères bouchées avec plus de valeur en 0\n",
    "    - données qualitatives : 66% d'hommes, 3/4 des patients n'ont pas de douleurs toraciques ou bien ne sont pas liées à une angine,  1/8 des patients ont plus de 120 mg/dl de glycémie à jeun (diabète!), électrocardiogramme 50% rien et 48% hypertrophie ventriculaire, 33% des patients ont une angine induite par l'exercice, plus de 50% des patients montrent des signes préoccupants au niveau de la forme de la pente du segment ST, un peu moins de 50% des patients ont des zones de circulation sanguine abimées (au moins lors de l'exercice) \n",
    "    \n",
    "    Les données quantitatives sont à normaliser\n",
    "- **Relations variables/target :**\n",
    "    - Différence entre les classes pour les variables (continues et entières) 'age', 'chol', 'thalach', 'ca', 'oldpeak'. La distribution n'est pas toujours normale\n",
    "    - Il semble que le sexe joue un rôle important : 25 femmes ont une maladie cardique contre 114 hommes (25% des femmes contre 50% des hommes). C'est étrange, les personnes qui ont une maladie cardiaque n'ont pour la plupart pas de douleurs toraciques (114/139) tandis que les personnes saines ont pour la plupart des douleurs toraciques (125/164). Il y a autant d'individus qui ont une glycémie à jeun > 120 mg/dl dans les deux classes (23 et 22). L'électrocardiogramme détecte souvent une hypertropie ventriculaire pour les malades. Les malades ont souvent eu une angine à la suite d'un effort. La forme de la pente du segment ST est plate pour la plupart des malades. Il y a beaucoup d'individus malades qui se font détecter de zones de circulation sanguine abimées (101)\n",
    "- **Relations variables/variables :**\n",
    "    - Pas vraiment de corrélation entre les variables\n",
    "- **Analyse approfondie des NaN :**\n",
    "    - Imputation possible avec des valeurs moyennes puisque les classes sont équilibrées, à tester\n",
    "- **Tests d'hypothèses :**\n",
    "    - Les variables qui ont des lois significativement différentes selon que le patient est malade ou non sont **ca, sex, trestbps, thalach, cp, restecg, exang, thal** (tests du $\\chi^2$, de Welch à 5%)"
   ]
  },
  {
   "cell_type": "code",
   "execution_count": 2,
   "id": "898d6850",
   "metadata": {},
   "outputs": [
    {
     "data": {
      "text/html": [
       "<div>\n",
       "<style scoped>\n",
       "    .dataframe tbody tr th:only-of-type {\n",
       "        vertical-align: middle;\n",
       "    }\n",
       "\n",
       "    .dataframe tbody tr th {\n",
       "        vertical-align: top;\n",
       "    }\n",
       "\n",
       "    .dataframe thead th {\n",
       "        text-align: right;\n",
       "    }\n",
       "</style>\n",
       "<table border=\"1\" class=\"dataframe\">\n",
       "  <thead>\n",
       "    <tr style=\"text-align: right;\">\n",
       "      <th></th>\n",
       "      <th>age</th>\n",
       "      <th>sex</th>\n",
       "      <th>cp</th>\n",
       "      <th>trestbps</th>\n",
       "      <th>chol</th>\n",
       "      <th>fbs</th>\n",
       "      <th>restecg</th>\n",
       "      <th>thalach</th>\n",
       "      <th>exang</th>\n",
       "      <th>oldpeak</th>\n",
       "      <th>slope</th>\n",
       "      <th>ca</th>\n",
       "      <th>thal</th>\n",
       "      <th>num</th>\n",
       "    </tr>\n",
       "  </thead>\n",
       "  <tbody>\n",
       "    <tr>\n",
       "      <th>0</th>\n",
       "      <td>63</td>\n",
       "      <td>1</td>\n",
       "      <td>1</td>\n",
       "      <td>145</td>\n",
       "      <td>233</td>\n",
       "      <td>1</td>\n",
       "      <td>2</td>\n",
       "      <td>150</td>\n",
       "      <td>0</td>\n",
       "      <td>2.3</td>\n",
       "      <td>3</td>\n",
       "      <td>0.0</td>\n",
       "      <td>6.0</td>\n",
       "      <td>0</td>\n",
       "    </tr>\n",
       "    <tr>\n",
       "      <th>1</th>\n",
       "      <td>67</td>\n",
       "      <td>1</td>\n",
       "      <td>4</td>\n",
       "      <td>160</td>\n",
       "      <td>286</td>\n",
       "      <td>0</td>\n",
       "      <td>2</td>\n",
       "      <td>108</td>\n",
       "      <td>1</td>\n",
       "      <td>1.5</td>\n",
       "      <td>2</td>\n",
       "      <td>3.0</td>\n",
       "      <td>3.0</td>\n",
       "      <td>2</td>\n",
       "    </tr>\n",
       "    <tr>\n",
       "      <th>2</th>\n",
       "      <td>67</td>\n",
       "      <td>1</td>\n",
       "      <td>4</td>\n",
       "      <td>120</td>\n",
       "      <td>229</td>\n",
       "      <td>0</td>\n",
       "      <td>2</td>\n",
       "      <td>129</td>\n",
       "      <td>1</td>\n",
       "      <td>2.6</td>\n",
       "      <td>2</td>\n",
       "      <td>2.0</td>\n",
       "      <td>7.0</td>\n",
       "      <td>1</td>\n",
       "    </tr>\n",
       "    <tr>\n",
       "      <th>3</th>\n",
       "      <td>37</td>\n",
       "      <td>1</td>\n",
       "      <td>3</td>\n",
       "      <td>130</td>\n",
       "      <td>250</td>\n",
       "      <td>0</td>\n",
       "      <td>0</td>\n",
       "      <td>187</td>\n",
       "      <td>0</td>\n",
       "      <td>3.5</td>\n",
       "      <td>3</td>\n",
       "      <td>0.0</td>\n",
       "      <td>3.0</td>\n",
       "      <td>0</td>\n",
       "    </tr>\n",
       "    <tr>\n",
       "      <th>4</th>\n",
       "      <td>41</td>\n",
       "      <td>0</td>\n",
       "      <td>2</td>\n",
       "      <td>130</td>\n",
       "      <td>204</td>\n",
       "      <td>0</td>\n",
       "      <td>2</td>\n",
       "      <td>172</td>\n",
       "      <td>0</td>\n",
       "      <td>1.4</td>\n",
       "      <td>1</td>\n",
       "      <td>0.0</td>\n",
       "      <td>3.0</td>\n",
       "      <td>0</td>\n",
       "    </tr>\n",
       "    <tr>\n",
       "      <th>...</th>\n",
       "      <td>...</td>\n",
       "      <td>...</td>\n",
       "      <td>...</td>\n",
       "      <td>...</td>\n",
       "      <td>...</td>\n",
       "      <td>...</td>\n",
       "      <td>...</td>\n",
       "      <td>...</td>\n",
       "      <td>...</td>\n",
       "      <td>...</td>\n",
       "      <td>...</td>\n",
       "      <td>...</td>\n",
       "      <td>...</td>\n",
       "      <td>...</td>\n",
       "    </tr>\n",
       "    <tr>\n",
       "      <th>298</th>\n",
       "      <td>45</td>\n",
       "      <td>1</td>\n",
       "      <td>1</td>\n",
       "      <td>110</td>\n",
       "      <td>264</td>\n",
       "      <td>0</td>\n",
       "      <td>0</td>\n",
       "      <td>132</td>\n",
       "      <td>0</td>\n",
       "      <td>1.2</td>\n",
       "      <td>2</td>\n",
       "      <td>0.0</td>\n",
       "      <td>7.0</td>\n",
       "      <td>1</td>\n",
       "    </tr>\n",
       "    <tr>\n",
       "      <th>299</th>\n",
       "      <td>68</td>\n",
       "      <td>1</td>\n",
       "      <td>4</td>\n",
       "      <td>144</td>\n",
       "      <td>193</td>\n",
       "      <td>1</td>\n",
       "      <td>0</td>\n",
       "      <td>141</td>\n",
       "      <td>0</td>\n",
       "      <td>3.4</td>\n",
       "      <td>2</td>\n",
       "      <td>2.0</td>\n",
       "      <td>7.0</td>\n",
       "      <td>2</td>\n",
       "    </tr>\n",
       "    <tr>\n",
       "      <th>300</th>\n",
       "      <td>57</td>\n",
       "      <td>1</td>\n",
       "      <td>4</td>\n",
       "      <td>130</td>\n",
       "      <td>131</td>\n",
       "      <td>0</td>\n",
       "      <td>0</td>\n",
       "      <td>115</td>\n",
       "      <td>1</td>\n",
       "      <td>1.2</td>\n",
       "      <td>2</td>\n",
       "      <td>1.0</td>\n",
       "      <td>7.0</td>\n",
       "      <td>3</td>\n",
       "    </tr>\n",
       "    <tr>\n",
       "      <th>301</th>\n",
       "      <td>57</td>\n",
       "      <td>0</td>\n",
       "      <td>2</td>\n",
       "      <td>130</td>\n",
       "      <td>236</td>\n",
       "      <td>0</td>\n",
       "      <td>2</td>\n",
       "      <td>174</td>\n",
       "      <td>0</td>\n",
       "      <td>0.0</td>\n",
       "      <td>2</td>\n",
       "      <td>1.0</td>\n",
       "      <td>3.0</td>\n",
       "      <td>1</td>\n",
       "    </tr>\n",
       "    <tr>\n",
       "      <th>302</th>\n",
       "      <td>38</td>\n",
       "      <td>1</td>\n",
       "      <td>3</td>\n",
       "      <td>138</td>\n",
       "      <td>175</td>\n",
       "      <td>0</td>\n",
       "      <td>0</td>\n",
       "      <td>173</td>\n",
       "      <td>0</td>\n",
       "      <td>0.0</td>\n",
       "      <td>1</td>\n",
       "      <td>NaN</td>\n",
       "      <td>3.0</td>\n",
       "      <td>0</td>\n",
       "    </tr>\n",
       "  </tbody>\n",
       "</table>\n",
       "<p>303 rows × 14 columns</p>\n",
       "</div>"
      ],
      "text/plain": [
       "     age  sex  cp  trestbps  chol  fbs  restecg  thalach  exang  oldpeak  \\\n",
       "0     63    1   1       145   233    1        2      150      0      2.3   \n",
       "1     67    1   4       160   286    0        2      108      1      1.5   \n",
       "2     67    1   4       120   229    0        2      129      1      2.6   \n",
       "3     37    1   3       130   250    0        0      187      0      3.5   \n",
       "4     41    0   2       130   204    0        2      172      0      1.4   \n",
       "..   ...  ...  ..       ...   ...  ...      ...      ...    ...      ...   \n",
       "298   45    1   1       110   264    0        0      132      0      1.2   \n",
       "299   68    1   4       144   193    1        0      141      0      3.4   \n",
       "300   57    1   4       130   131    0        0      115      1      1.2   \n",
       "301   57    0   2       130   236    0        2      174      0      0.0   \n",
       "302   38    1   3       138   175    0        0      173      0      0.0   \n",
       "\n",
       "     slope   ca  thal  num  \n",
       "0        3  0.0   6.0    0  \n",
       "1        2  3.0   3.0    2  \n",
       "2        2  2.0   7.0    1  \n",
       "3        3  0.0   3.0    0  \n",
       "4        1  0.0   3.0    0  \n",
       "..     ...  ...   ...  ...  \n",
       "298      2  0.0   7.0    1  \n",
       "299      2  2.0   7.0    2  \n",
       "300      2  1.0   7.0    3  \n",
       "301      2  1.0   3.0    1  \n",
       "302      1  NaN   3.0    0  \n",
       "\n",
       "[303 rows x 14 columns]"
      ]
     },
     "execution_count": 2,
     "metadata": {},
     "output_type": "execute_result"
    }
   ],
   "source": [
    "pd.set_option('display.max_column', 100)\n",
    "pd.set_option('display.max_row', 100)\n",
    "data"
   ]
  },
  {
   "cell_type": "markdown",
   "id": "5c0d1924",
   "metadata": {},
   "source": [
    "## Analyse de forme"
   ]
  },
  {
   "cell_type": "code",
   "execution_count": 3,
   "id": "9a4eb1f1",
   "metadata": {},
   "outputs": [],
   "source": [
    "df = data.copy()"
   ]
  },
  {
   "cell_type": "markdown",
   "id": "35cdbce1",
   "metadata": {},
   "source": [
    "### Taille du dataset"
   ]
  },
  {
   "cell_type": "code",
   "execution_count": 4,
   "id": "4fdea55d",
   "metadata": {},
   "outputs": [
    {
     "data": {
      "text/plain": [
       "(303, 14)"
      ]
     },
     "execution_count": 4,
     "metadata": {},
     "output_type": "execute_result"
    }
   ],
   "source": [
    "df.shape"
   ]
  },
  {
   "cell_type": "markdown",
   "id": "9ff943db",
   "metadata": {},
   "source": [
    "### Type des colonnes"
   ]
  },
  {
   "cell_type": "code",
   "execution_count": 5,
   "id": "01414e7c",
   "metadata": {},
   "outputs": [
    {
     "data": {
      "text/plain": [
       "age           int64\n",
       "sex           int64\n",
       "cp            int64\n",
       "trestbps      int64\n",
       "chol          int64\n",
       "fbs           int64\n",
       "restecg       int64\n",
       "thalach       int64\n",
       "exang         int64\n",
       "oldpeak     float64\n",
       "slope         int64\n",
       "ca          float64\n",
       "thal        float64\n",
       "num           int64\n",
       "dtype: object"
      ]
     },
     "execution_count": 5,
     "metadata": {},
     "output_type": "execute_result"
    }
   ],
   "source": [
    "df.dtypes"
   ]
  },
  {
   "cell_type": "code",
   "execution_count": 6,
   "id": "5b0115d6",
   "metadata": {},
   "outputs": [
    {
     "data": {
      "text/plain": [
       "int64      11\n",
       "float64     3\n",
       "dtype: int64"
      ]
     },
     "execution_count": 6,
     "metadata": {},
     "output_type": "execute_result"
    }
   ],
   "source": [
    "df.dtypes.value_counts()"
   ]
  },
  {
   "cell_type": "markdown",
   "id": "2b749639",
   "metadata": {},
   "source": [
    "### Analyse des NaN"
   ]
  },
  {
   "cell_type": "code",
   "execution_count": 7,
   "id": "bb0e16a9",
   "metadata": {},
   "outputs": [],
   "source": [
    "import seaborn as sns\n",
    "import matplotlib.pyplot as plt"
   ]
  },
  {
   "cell_type": "code",
   "execution_count": 8,
   "id": "1289ddb7",
   "metadata": {},
   "outputs": [
    {
     "data": {
      "image/png": "[encoded data removed]",
      "text/plain": [
       "<Figure size 864x576 with 1 Axes>"
      ]
     },
     "metadata": {
      "needs_background": "light"
     },
     "output_type": "display_data"
    }
   ],
   "source": [
    "plt.figure(figsize = (12,8))\n",
    "sns.heatmap(df.isna(), cbar=False)\n",
    "plt.show()"
   ]
  },
  {
   "cell_type": "code",
   "execution_count": 9,
   "id": "5268f2ee",
   "metadata": {},
   "outputs": [
    {
     "data": {
      "text/plain": [
       "ca          4\n",
       "thal        2\n",
       "age         0\n",
       "sex         0\n",
       "cp          0\n",
       "trestbps    0\n",
       "chol        0\n",
       "fbs         0\n",
       "restecg     0\n",
       "thalach     0\n",
       "exang       0\n",
       "oldpeak     0\n",
       "slope       0\n",
       "num         0\n",
       "dtype: int64"
      ]
     },
     "execution_count": 9,
     "metadata": {},
     "output_type": "execute_result"
    }
   ],
   "source": [
    "(df.isna().sum(axis=0)).sort_values(ascending=False)"
   ]
  },
  {
   "cell_type": "markdown",
   "id": "a291376c",
   "metadata": {},
   "source": [
    "## Analyse de fond"
   ]
  },
  {
   "cell_type": "code",
   "execution_count": 262,
   "id": "71841b28",
   "metadata": {},
   "outputs": [],
   "source": [
    "features_int = ['age', 'trestbps', 'chol', 'thalach', 'ca']\n",
    "features_float = ['oldpeak']\n",
    "features_object = ['sex', 'cp', 'fbs', 'restecg', 'exang', 'slope', 'thal', 'num']"
   ]
  },
  {
   "cell_type": "markdown",
   "id": "45de3d1e",
   "metadata": {},
   "source": [
    "### Analyse de la variable target"
   ]
  },
  {
   "cell_type": "code",
   "execution_count": 11,
   "id": "c9955932",
   "metadata": {},
   "outputs": [
    {
     "data": {
      "text/plain": [
       "0    0.541254\n",
       "1    0.181518\n",
       "2    0.118812\n",
       "3    0.115512\n",
       "4    0.042904\n",
       "Name: num, dtype: float64"
      ]
     },
     "execution_count": 11,
     "metadata": {},
     "output_type": "execute_result"
    }
   ],
   "source": [
    "df['num'].value_counts(normalize=True)"
   ]
  },
  {
   "cell_type": "code",
   "execution_count": 50,
   "id": "4375177c",
   "metadata": {},
   "outputs": [],
   "source": [
    "def est_malade(row):\n",
    "    if row['num'] >= 1:\n",
    "        return 1\n",
    "    else:\n",
    "        return 0    "
   ]
  },
  {
   "cell_type": "code",
   "execution_count": 58,
   "id": "3b87f7c1",
   "metadata": {},
   "outputs": [],
   "source": [
    "df['num'] = df.apply(est_malade, axis=1)"
   ]
  },
  {
   "cell_type": "markdown",
   "id": "b177d2de",
   "metadata": {},
   "source": [
    "### Analyse des variables"
   ]
  },
  {
   "cell_type": "markdown",
   "id": "8e852d90",
   "metadata": {},
   "source": [
    "#### Variables continues"
   ]
  },
  {
   "cell_type": "code",
   "execution_count": 59,
   "id": "5733bc5f",
   "metadata": {},
   "outputs": [
    {
     "data": {
      "image/png": "[encoded data removed]",
      "text/plain": [
       "<Figure size 432x288 with 1 Axes>"
      ]
     },
     "metadata": {
      "needs_background": "light"
     },
     "output_type": "display_data"
    }
   ],
   "source": [
    "plt.figure()\n",
    "sns.histplot(df[features_float[0]], kde = True, stat='density')\n",
    "plt.grid()\n",
    "plt.show()"
   ]
  },
  {
   "cell_type": "markdown",
   "id": "b828f1d7",
   "metadata": {},
   "source": [
    "#### Variables entières"
   ]
  },
  {
   "cell_type": "code",
   "execution_count": 60,
   "id": "876acb15",
   "metadata": {
    "scrolled": true
   },
   "outputs": [
    {
     "data": {
      "image/png": "[encoded data removed]",
      "text/plain": [
       "<Figure size 432x288 with 1 Axes>"
      ]
     },
     "metadata": {
      "needs_background": "light"
     },
     "output_type": "display_data"
    },
    {
     "data": {
      "image/png": "[encoded data removed]",
      "text/plain": [
       "<Figure size 432x288 with 1 Axes>"
      ]
     },
     "metadata": {
      "needs_background": "light"
     },
     "output_type": "display_data"
    },
    {
     "data": {
      "image/png": "[encoded data removed]",
      "text/plain": [
       "<Figure size 432x288 with 1 Axes>"
      ]
     },
     "metadata": {
      "needs_background": "light"
     },
     "output_type": "display_data"
    },
    {
     "data": {
      "image/png": "[encoded data removed]",
      "text/plain": [
       "<Figure size 432x288 with 1 Axes>"
      ]
     },
     "metadata": {
      "needs_background": "light"
     },
     "output_type": "display_data"
    },
    {
     "data": {
      "image/png": "[encoded data removed]",
      "text/plain": [
       "<Figure size 432x288 with 1 Axes>"
      ]
     },
     "metadata": {
      "needs_background": "light"
     },
     "output_type": "display_data"
    }
   ],
   "source": [
    "for col in features_int:\n",
    "    plt.figure()\n",
    "    sns.histplot(df[col], kde = True, stat='density')\n",
    "    plt.grid()\n",
    "    plt.show()"
   ]
  },
  {
   "cell_type": "markdown",
   "id": "dd87e358",
   "metadata": {},
   "source": [
    "#### Variables qualitatives"
   ]
  },
  {
   "cell_type": "code",
   "execution_count": 61,
   "id": "e9a252da",
   "metadata": {},
   "outputs": [
    {
     "name": "stdout",
     "output_type": "stream",
     "text": [
      "sex----------------------------------------------- [1 0]\n",
      "cp------------------------------------------------ [1 4 3 2]\n",
      "fbs----------------------------------------------- [1 0]\n",
      "restecg------------------------------------------- [2 0 1]\n",
      "exang--------------------------------------------- [0 1]\n",
      "slope--------------------------------------------- [3 2 1]\n",
      "thal---------------------------------------------- [ 6.  3.  7. nan]\n",
      "num----------------------------------------------- [0 1]\n"
     ]
    }
   ],
   "source": [
    "for col in features_object:\n",
    "    print(f'{col:-<50} {df[col].unique()}')  "
   ]
  },
  {
   "cell_type": "code",
   "execution_count": 62,
   "id": "eaf92977",
   "metadata": {
    "scrolled": true
   },
   "outputs": [
    {
     "data": {
      "image/png": "[encoded data removed]",
      "text/plain": [
       "<Figure size 432x288 with 1 Axes>"
      ]
     },
     "metadata": {},
     "output_type": "display_data"
    },
    {
     "data": {
      "image/png": "[encoded data removed]",
      "text/plain": [
       "<Figure size 432x288 with 1 Axes>"
      ]
     },
     "metadata": {},
     "output_type": "display_data"
    },
    {
     "data": {
      "image/png": "[encoded data removed]",
      "text/plain": [
       "<Figure size 432x288 with 1 Axes>"
      ]
     },
     "metadata": {},
     "output_type": "display_data"
    },
    {
     "data": {
      "image/png": "[encoded data removed]",
      "text/plain": [
       "<Figure size 432x288 with 1 Axes>"
      ]
     },
     "metadata": {},
     "output_type": "display_data"
    },
    {
     "data": {
      "image/png": "[encoded data removed]",
      "text/plain": [
       "<Figure size 432x288 with 1 Axes>"
      ]
     },
     "metadata": {},
     "output_type": "display_data"
    },
    {
     "data": {
      "image/png": "[encoded data removed]",
      "text/plain": [
       "<Figure size 432x288 with 1 Axes>"
      ]
     },
     "metadata": {},
     "output_type": "display_data"
    },
    {
     "data": {
      "image/png": "[encoded data removed]",
      "text/plain": [
       "<Figure size 432x288 with 1 Axes>"
      ]
     },
     "metadata": {},
     "output_type": "display_data"
    },
    {
     "data": {
      "image/png": "[encoded data removed]",
      "text/plain": [
       "<Figure size 432x288 with 1 Axes>"
      ]
     },
     "metadata": {},
     "output_type": "display_data"
    }
   ],
   "source": [
    "for col in features_object:\n",
    "    plt.figure()\n",
    "    df[col].value_counts().plot.pie()"
   ]
  },
  {
   "cell_type": "markdown",
   "id": "0555bbf9",
   "metadata": {},
   "source": [
    "### Analyse variables/target"
   ]
  },
  {
   "cell_type": "markdown",
   "id": "a35f487c",
   "metadata": {},
   "source": [
    "#### Variables entières et continues"
   ]
  },
  {
   "cell_type": "code",
   "execution_count": 70,
   "id": "f9cc76b8",
   "metadata": {},
   "outputs": [],
   "source": [
    "positive = df['num'] == 1\n",
    "negative = df['num'] == 0"
   ]
  },
  {
   "cell_type": "code",
   "execution_count": 95,
   "id": "d1c0224a",
   "metadata": {
    "scrolled": true
   },
   "outputs": [
    {
     "data": {
      "image/png": "[encoded data removed]",
      "text/plain": [
       "<Figure size 864x432 with 1 Axes>"
      ]
     },
     "metadata": {
      "needs_background": "light"
     },
     "output_type": "display_data"
    },
    {
     "data": {
      "image/png": "[encoded data removed]",
      "text/plain": [
       "<Figure size 864x432 with 1 Axes>"
      ]
     },
     "metadata": {
      "needs_background": "light"
     },
     "output_type": "display_data"
    },
    {
     "data": {
      "image/png": "[encoded data removed]",
      "text/plain": [
       "<Figure size 864x432 with 1 Axes>"
      ]
     },
     "metadata": {
      "needs_background": "light"
     },
     "output_type": "display_data"
    },
    {
     "data": {
      "image/png": "[encoded data removed]",
      "text/plain": [
       "<Figure size 864x432 with 1 Axes>"
      ]
     },
     "metadata": {
      "needs_background": "light"
     },
     "output_type": "display_data"
    },
    {
     "data": {
      "image/png": "[encoded data removed]",
      "text/plain": [
       "<Figure size 864x432 with 1 Axes>"
      ]
     },
     "metadata": {
      "needs_background": "light"
     },
     "output_type": "display_data"
    },
    {
     "data": {
      "image/png": "[encoded data removed]",
      "text/plain": [
       "<Figure size 864x432 with 1 Axes>"
      ]
     },
     "metadata": {
      "needs_background": "light"
     },
     "output_type": "display_data"
    }
   ],
   "source": [
    "for col in features_int+features_float:\n",
    "    plt.figure(figsize=(12, 6))\n",
    "    sns.boxplot(data=df, x='num', y=col, palette='Set2')\n",
    "    plt.title(f'Distribution de la colonne {col} en fonction de la présence de maladie cardiaque ')\n",
    "    plt.xlabel('Valeur de num')\n",
    "    plt.ylabel(col)\n",
    "    plt.show()"
   ]
  },
  {
   "cell_type": "code",
   "execution_count": 96,
   "id": "318f0372",
   "metadata": {
    "scrolled": true
   },
   "outputs": [
    {
     "data": {
      "image/png": "[encoded data removed]",
      "text/plain": [
       "<Figure size 432x288 with 1 Axes>"
      ]
     },
     "metadata": {
      "needs_background": "light"
     },
     "output_type": "display_data"
    },
    {
     "data": {
      "image/png": "[encoded data removed]",
      "text/plain": [
       "<Figure size 432x288 with 1 Axes>"
      ]
     },
     "metadata": {
      "needs_background": "light"
     },
     "output_type": "display_data"
    },
    {
     "data": {
      "image/png": "[encoded data removed]",
      "text/plain": [
       "<Figure size 432x288 with 1 Axes>"
      ]
     },
     "metadata": {
      "needs_background": "light"
     },
     "output_type": "display_data"
    },
    {
     "data": {
      "image/png": "[encoded data removed]",
      "text/plain": [
       "<Figure size 432x288 with 1 Axes>"
      ]
     },
     "metadata": {
      "needs_background": "light"
     },
     "output_type": "display_data"
    },
    {
     "data": {
      "image/png": "[encoded data removed]",
      "text/plain": [
       "<Figure size 432x288 with 1 Axes>"
      ]
     },
     "metadata": {
      "needs_background": "light"
     },
     "output_type": "display_data"
    },
    {
     "data": {
      "image/png": "[encoded data removed]",
      "text/plain": [
       "<Figure size 432x288 with 1 Axes>"
      ]
     },
     "metadata": {
      "needs_background": "light"
     },
     "output_type": "display_data"
    }
   ],
   "source": [
    "for col in features_int+features_float:\n",
    "    plt.figure()\n",
    "    sns.histplot(df[negative][col], kde = True, stat='density', label = \"negative\")\n",
    "    sns.histplot(df[positive][col], kde = True, stat='density', label = \"positive\")\n",
    "    plt.grid()\n",
    "    plt.legend()\n",
    "    plt.show()"
   ]
  },
  {
   "cell_type": "markdown",
   "id": "bfe14bf2",
   "metadata": {},
   "source": [
    "Différence entre les classes pour les variables (continues et entières) 'age', 'chol', 'thalach', 'ca', 'oldpeak'. La distribution n'est pas toujours normale"
   ]
  },
  {
   "cell_type": "markdown",
   "id": "c0352644",
   "metadata": {},
   "source": [
    "#### Variables qualitatives"
   ]
  },
  {
   "cell_type": "code",
   "execution_count": 131,
   "id": "bbb01332",
   "metadata": {
    "scrolled": true
   },
   "outputs": [
    {
     "data": {
      "image/png": "[encoded data removed]",
      "text/plain": [
       "<Figure size 432x288 with 2 Axes>"
      ]
     },
     "metadata": {
      "needs_background": "light"
     },
     "output_type": "display_data"
    },
    {
     "data": {
      "image/png": "[encoded data removed]",
      "text/plain": [
       "<Figure size 432x288 with 2 Axes>"
      ]
     },
     "metadata": {
      "needs_background": "light"
     },
     "output_type": "display_data"
    },
    {
     "data": {
      "image/png": "[encoded data removed]",
      "text/plain": [
       "<Figure size 432x288 with 2 Axes>"
      ]
     },
     "metadata": {
      "needs_background": "light"
     },
     "output_type": "display_data"
    },
    {
     "data": {
      "image/png": "[encoded data removed]",
      "text/plain": [
       "<Figure size 432x288 with 2 Axes>"
      ]
     },
     "metadata": {
      "needs_background": "light"
     },
     "output_type": "display_data"
    },
    {
     "data": {
      "image/png": "[encoded data removed]",
      "text/plain": [
       "<Figure size 432x288 with 2 Axes>"
      ]
     },
     "metadata": {
      "needs_background": "light"
     },
     "output_type": "display_data"
    },
    {
     "data": {
      "image/png": "[encoded data removed]",
      "text/plain": [
       "<Figure size 432x288 with 2 Axes>"
      ]
     },
     "metadata": {
      "needs_background": "light"
     },
     "output_type": "display_data"
    },
    {
     "data": {
      "image/png": "[encoded data removed]",
      "text/plain": [
       "<Figure size 432x288 with 2 Axes>"
      ]
     },
     "metadata": {
      "needs_background": "light"
     },
     "output_type": "display_data"
    },
    {
     "data": {
      "image/png": "[encoded data removed]",
      "text/plain": [
       "<Figure size 432x288 with 2 Axes>"
      ]
     },
     "metadata": {
      "needs_background": "light"
     },
     "output_type": "display_data"
    }
   ],
   "source": [
    "for col in features_object:\n",
    "    plt.figure()\n",
    "    sns.heatmap(pd.crosstab(df['num'], df[col]),fmt='d', annot=True)\n",
    "    plt.show()"
   ]
  },
  {
   "cell_type": "markdown",
   "id": "76f2b791",
   "metadata": {},
   "source": [
    "Il semble que le sexe joue un rôle important : 25 femmes ont une maladie cardique contre 114 hommes (25% des femmes contre 50% des hommes). C'est étrange, les personnes qui ont une maladie cardiaque n'ont pour la plupart pas de douleurs toraciques (114/139) tandis que les personnes saines ont pour la plupart des douleurs toraciques (125/164). Il y a autant d'individus qui ont une glycémie à jeun > 120 mg/dl dans les deux classes (23 et 22). L'électrocardiogramme détecte souvent une hypertropie ventriculaire pour les malades. Les malades ont souvent eu une angine à la suite d'un effort. La forme de la pente du segment ST est plate pour la plupart des malades. Il y a beaucoup d'individus malades qui se font détecter de zones de circulation sanguine abimées (101)"
   ]
  },
  {
   "cell_type": "markdown",
   "id": "3b0aaa64",
   "metadata": {},
   "source": [
    "### Tests"
   ]
  },
  {
   "cell_type": "markdown",
   "id": "6f8f3574",
   "metadata": {},
   "source": [
    "#### Variables discrètes et continues\n",
    "\n",
    "Le support de la variable discrète 'ca' est {1,2,3,4}"
   ]
  },
  {
   "cell_type": "markdown",
   "id": "133ad30a",
   "metadata": {},
   "source": [
    "**H0 :** Les individus issus de la variable 'ca' de classe negative et de classe positive ont la même loi\n",
    "\n",
    "**H1 :** Les variables issus de la variable 'ca' de classe negative et de classe positive ont des lois différentes\n",
    "\n",
    "Test du $\\chi^2$"
   ]
  },
  {
   "cell_type": "code",
   "execution_count": 107,
   "id": "38e3cc53",
   "metadata": {},
   "outputs": [
    {
     "name": "stdout",
     "output_type": "stream",
     "text": [
      "ca------------------------------------------------ H0 rejetée\n"
     ]
    }
   ],
   "source": [
    "from scipy.stats import chi2_contingency\n",
    "col = 'ca'\n",
    "g_neg = df[negative][col].value_counts().values.tolist()\n",
    "g_pos = df[positive][col].value_counts().values.tolist()\n",
    "matrice = [g_neg, g_pos]\n",
    "stat, pval, d, expect = chi2_contingency(matrice)\n",
    "alpha = 0.05\n",
    "if pval < alpha:\n",
    "    print(f'{col:-<50} H0 rejetée')\n",
    "else:\n",
    "    print(f'{col:-<50} 0')"
   ]
  },
  {
   "cell_type": "markdown",
   "id": "27b1b6aa",
   "metadata": {},
   "source": [
    "Pour les variables avec distribution normale : 'trestbps', 'chol', 'thalach'"
   ]
  },
  {
   "cell_type": "code",
   "execution_count": 102,
   "id": "14a268eb",
   "metadata": {},
   "outputs": [
    {
     "name": "stdout",
     "output_type": "stream",
     "text": [
      "trestbps\n",
      "Variance classe positive : 349.74173179442056\n",
      "Variance classe négative : 260.9923780487805\n",
      "\n",
      "chol\n",
      "Variance classe positive : 2431.3285026654935\n",
      "Variance classe négative : 2840.1815511600234\n",
      "\n",
      "thalach\n",
      "Variance classe positive : 506.78184358987636\n",
      "Variance classe négative : 366.35707911957167\n",
      "\n"
     ]
    }
   ],
   "source": [
    "import numpy as np\n",
    "cols_test = ['trestbps', 'chol', 'thalach']\n",
    "for col in cols_test:\n",
    "    ech_pos = df[positive][col].values\n",
    "    ech_neg = df[negative][col].values\n",
    "    print(f'{col}\\nVariance classe positive : {np.var(ech_pos)}\\nVariance classe négative : {np.var(ech_neg)}\\n')"
   ]
  },
  {
   "cell_type": "markdown",
   "id": "5a538824",
   "metadata": {},
   "source": [
    "**H0 :** La moyenne d'une variable cible des individus sains n'est pas différente de celles des individus malades\n",
    "\n",
    "**H1 :** Elle est différente\n",
    "\n",
    "Test de Welch à $\\alpha = 5\\%$ car les variances selon les classes sont différentes et que le nombre de tests indépendants est seulement de 3 (donc pas de correction sur $\\alpha$)"
   ]
  },
  {
   "cell_type": "code",
   "execution_count": 138,
   "id": "df3c7ac6",
   "metadata": {},
   "outputs": [
    {
     "name": "stdout",
     "output_type": "stream",
     "text": [
      "trestbps------------------------------------------ H0 rejetée\n",
      "chol---------------------------------------------- 0\n",
      "thalach------------------------------------------- H0 rejetée\n"
     ]
    }
   ],
   "source": [
    "from scipy.stats import ttest_ind\n",
    "for col in cols_test:\n",
    "    stat, pval = ttest_ind(df[positive][col], df[negative][col], equal_var= False)\n",
    "    alpha = 0.05\n",
    "    if pval < alpha:\n",
    "        print(f'{col:-<50} H0 rejetée')\n",
    "    else:\n",
    "        print(f'{col:-<50} 0')"
   ]
  },
  {
   "cell_type": "markdown",
   "id": "f2ab0db3",
   "metadata": {},
   "source": [
    "#### Variables qualitatives"
   ]
  },
  {
   "cell_type": "markdown",
   "id": "f9e86282",
   "metadata": {},
   "source": [
    "**H0 :** Les individus issus d'une variable cible de classe negative et de classe positive ont la même loi\n",
    "\n",
    "**H1 :** Les variables issus d'une variable cible de classe negative et de classe positive ont des lois différentes\n",
    "\n",
    "Test du $\\chi^2$"
   ]
  },
  {
   "cell_type": "markdown",
   "id": "4b7b0a8b",
   "metadata": {},
   "source": [
    "Une rapide analyse montre que pour la variable 'restecg' il y a des valeurs attendues inférieures à 5 donc on décide de fusionner les modalités 1 et 2 dans ce cas précis"
   ]
  },
  {
   "cell_type": "code",
   "execution_count": 198,
   "id": "a1b80492",
   "metadata": {},
   "outputs": [
    {
     "name": "stdout",
     "output_type": "stream",
     "text": [
      "sex----------------------------------------------- H0 rejetée\n",
      "cp------------------------------------------------ H0 rejetée\n",
      "fbs----------------------------------------------- 0\n",
      "restecg------------------------------------------- H0 rejetée\n",
      "exang--------------------------------------------- H0 rejetée\n",
      "slope--------------------------------------------- 0\n",
      "thal---------------------------------------------- H0 rejetée\n"
     ]
    }
   ],
   "source": [
    "for col in features_object[:-1]:\n",
    "    g_neg = df[negative][col].value_counts().values.tolist()\n",
    "    g_pos = df[positive][col].value_counts().values.tolist()\n",
    "    if col == 'restecg':\n",
    "        g_neg = df[positive][col].value_counts().get([0,2])+(0,df[positive][col].value_counts().get(1))\n",
    "        g_pos = df[negative][col].value_counts().get([0,2])+(0,df[negative][col].value_counts().get(1))\n",
    "    matrice = [g_neg, g_pos]\n",
    "    stat, pval, d, expect = chi2_contingency(matrice)\n",
    "    alpha = 0.05\n",
    "    if pval < alpha:\n",
    "        print(f'{col:-<50} H0 rejetée')\n",
    "    else:\n",
    "        print(f'{col:-<50} 0')"
   ]
  },
  {
   "cell_type": "markdown",
   "id": "f42b26ed",
   "metadata": {},
   "source": [
    "Les variables qui ont des lois significativement différentes selon que le patient est malade ou non sont **ca, sex, trestbps, thalach, cp, restecg, exang, thal**"
   ]
  },
  {
   "cell_type": "markdown",
   "id": "cc16ab96",
   "metadata": {},
   "source": [
    "### Analyse appronfondie des NaN"
   ]
  },
  {
   "cell_type": "code",
   "execution_count": 214,
   "id": "70931887",
   "metadata": {},
   "outputs": [
    {
     "name": "stdout",
     "output_type": "stream",
     "text": [
      "0.2732919254658385 1.1376811594202898\n"
     ]
    }
   ],
   "source": [
    "print(df[negative]['ca'].mean(), df[positive]['ca'].mean())"
   ]
  },
  {
   "cell_type": "markdown",
   "id": "e56c4ad5",
   "metadata": {},
   "source": [
    "Imputer la classe négative avec 0 et la classe positive avec 1"
   ]
  },
  {
   "cell_type": "code",
   "execution_count": 215,
   "id": "02e3c627",
   "metadata": {},
   "outputs": [
    {
     "name": "stdout",
     "output_type": "stream",
     "text": [
      "3.7975460122699385 5.840579710144928\n"
     ]
    }
   ],
   "source": [
    "print(df[negative]['thal'].mean(), df[positive]['thal'].mean())"
   ]
  },
  {
   "cell_type": "markdown",
   "id": "15e21cfd",
   "metadata": {},
   "source": [
    "Imputer la classe négative avec 3 et la classe positive avec 7\n",
    "\n",
    "Attention au data leaking"
   ]
  },
  {
   "cell_type": "markdown",
   "id": "99ee1413",
   "metadata": {},
   "source": [
    "### Relations variables/variables"
   ]
  },
  {
   "cell_type": "code",
   "execution_count": 899,
   "id": "05b68f71",
   "metadata": {},
   "outputs": [
    {
     "data": {
      "image/png": "[encoded data removed]",
      "text/plain": [
       "<Figure size 720x576 with 2 Axes>"
      ]
     },
     "metadata": {
      "needs_background": "light"
     },
     "output_type": "display_data"
    }
   ],
   "source": [
    "plt.figure(figsize=(10,8))\n",
    "sns.heatmap(df[features_float+features_int].corr(), annot=True)\n",
    "plt.show()"
   ]
  },
  {
   "cell_type": "markdown",
   "id": "e1f9a96e",
   "metadata": {},
   "source": [
    "Pas vraiment de corrélation entre les variables"
   ]
  },
  {
   "cell_type": "markdown",
   "id": "603440e6",
   "metadata": {},
   "source": [
    "# 2. Pre-processing des données"
   ]
  },
  {
   "cell_type": "code",
   "execution_count": 599,
   "id": "f9beb2e2",
   "metadata": {},
   "outputs": [],
   "source": [
    "from sklearn.preprocessing import StandardScaler, OneHotEncoder\n",
    "from sklearn.model_selection import train_test_split\n",
    "from imblearn.pipeline import Pipeline as ImbPipeline"
   ]
  },
  {
   "cell_type": "code",
   "execution_count": 1040,
   "id": "3c5bc621",
   "metadata": {},
   "outputs": [],
   "source": [
    "df_pp = df.copy()"
   ]
  },
  {
   "cell_type": "code",
   "execution_count": 1041,
   "id": "c013809a",
   "metadata": {},
   "outputs": [
    {
     "data": {
      "text/html": [
       "<div>\n",
       "<style scoped>\n",
       "    .dataframe tbody tr th:only-of-type {\n",
       "        vertical-align: middle;\n",
       "    }\n",
       "\n",
       "    .dataframe tbody tr th {\n",
       "        vertical-align: top;\n",
       "    }\n",
       "\n",
       "    .dataframe thead th {\n",
       "        text-align: right;\n",
       "    }\n",
       "</style>\n",
       "<table border=\"1\" class=\"dataframe\">\n",
       "  <thead>\n",
       "    <tr style=\"text-align: right;\">\n",
       "      <th></th>\n",
       "      <th>age</th>\n",
       "      <th>trestbps</th>\n",
       "      <th>chol</th>\n",
       "      <th>thalach</th>\n",
       "      <th>ca</th>\n",
       "      <th>oldpeak</th>\n",
       "      <th>sex</th>\n",
       "      <th>cp</th>\n",
       "      <th>fbs</th>\n",
       "      <th>restecg</th>\n",
       "      <th>exang</th>\n",
       "      <th>slope</th>\n",
       "      <th>thal</th>\n",
       "      <th>num</th>\n",
       "    </tr>\n",
       "  </thead>\n",
       "  <tbody>\n",
       "    <tr>\n",
       "      <th>0</th>\n",
       "      <td>63</td>\n",
       "      <td>145</td>\n",
       "      <td>233</td>\n",
       "      <td>150</td>\n",
       "      <td>0.0</td>\n",
       "      <td>2.3</td>\n",
       "      <td>1</td>\n",
       "      <td>1</td>\n",
       "      <td>1</td>\n",
       "      <td>2</td>\n",
       "      <td>0</td>\n",
       "      <td>3</td>\n",
       "      <td>6.0</td>\n",
       "      <td>0</td>\n",
       "    </tr>\n",
       "    <tr>\n",
       "      <th>1</th>\n",
       "      <td>67</td>\n",
       "      <td>160</td>\n",
       "      <td>286</td>\n",
       "      <td>108</td>\n",
       "      <td>3.0</td>\n",
       "      <td>1.5</td>\n",
       "      <td>1</td>\n",
       "      <td>4</td>\n",
       "      <td>0</td>\n",
       "      <td>2</td>\n",
       "      <td>1</td>\n",
       "      <td>2</td>\n",
       "      <td>3.0</td>\n",
       "      <td>1</td>\n",
       "    </tr>\n",
       "    <tr>\n",
       "      <th>2</th>\n",
       "      <td>67</td>\n",
       "      <td>120</td>\n",
       "      <td>229</td>\n",
       "      <td>129</td>\n",
       "      <td>2.0</td>\n",
       "      <td>2.6</td>\n",
       "      <td>1</td>\n",
       "      <td>4</td>\n",
       "      <td>0</td>\n",
       "      <td>2</td>\n",
       "      <td>1</td>\n",
       "      <td>2</td>\n",
       "      <td>7.0</td>\n",
       "      <td>1</td>\n",
       "    </tr>\n",
       "    <tr>\n",
       "      <th>3</th>\n",
       "      <td>37</td>\n",
       "      <td>130</td>\n",
       "      <td>250</td>\n",
       "      <td>187</td>\n",
       "      <td>0.0</td>\n",
       "      <td>3.5</td>\n",
       "      <td>1</td>\n",
       "      <td>3</td>\n",
       "      <td>0</td>\n",
       "      <td>0</td>\n",
       "      <td>0</td>\n",
       "      <td>3</td>\n",
       "      <td>3.0</td>\n",
       "      <td>0</td>\n",
       "    </tr>\n",
       "    <tr>\n",
       "      <th>4</th>\n",
       "      <td>41</td>\n",
       "      <td>130</td>\n",
       "      <td>204</td>\n",
       "      <td>172</td>\n",
       "      <td>0.0</td>\n",
       "      <td>1.4</td>\n",
       "      <td>0</td>\n",
       "      <td>2</td>\n",
       "      <td>0</td>\n",
       "      <td>2</td>\n",
       "      <td>0</td>\n",
       "      <td>1</td>\n",
       "      <td>3.0</td>\n",
       "      <td>0</td>\n",
       "    </tr>\n",
       "    <tr>\n",
       "      <th>...</th>\n",
       "      <td>...</td>\n",
       "      <td>...</td>\n",
       "      <td>...</td>\n",
       "      <td>...</td>\n",
       "      <td>...</td>\n",
       "      <td>...</td>\n",
       "      <td>...</td>\n",
       "      <td>...</td>\n",
       "      <td>...</td>\n",
       "      <td>...</td>\n",
       "      <td>...</td>\n",
       "      <td>...</td>\n",
       "      <td>...</td>\n",
       "      <td>...</td>\n",
       "    </tr>\n",
       "    <tr>\n",
       "      <th>298</th>\n",
       "      <td>45</td>\n",
       "      <td>110</td>\n",
       "      <td>264</td>\n",
       "      <td>132</td>\n",
       "      <td>0.0</td>\n",
       "      <td>1.2</td>\n",
       "      <td>1</td>\n",
       "      <td>1</td>\n",
       "      <td>0</td>\n",
       "      <td>0</td>\n",
       "      <td>0</td>\n",
       "      <td>2</td>\n",
       "      <td>7.0</td>\n",
       "      <td>1</td>\n",
       "    </tr>\n",
       "    <tr>\n",
       "      <th>299</th>\n",
       "      <td>68</td>\n",
       "      <td>144</td>\n",
       "      <td>193</td>\n",
       "      <td>141</td>\n",
       "      <td>2.0</td>\n",
       "      <td>3.4</td>\n",
       "      <td>1</td>\n",
       "      <td>4</td>\n",
       "      <td>1</td>\n",
       "      <td>0</td>\n",
       "      <td>0</td>\n",
       "      <td>2</td>\n",
       "      <td>7.0</td>\n",
       "      <td>1</td>\n",
       "    </tr>\n",
       "    <tr>\n",
       "      <th>300</th>\n",
       "      <td>57</td>\n",
       "      <td>130</td>\n",
       "      <td>131</td>\n",
       "      <td>115</td>\n",
       "      <td>1.0</td>\n",
       "      <td>1.2</td>\n",
       "      <td>1</td>\n",
       "      <td>4</td>\n",
       "      <td>0</td>\n",
       "      <td>0</td>\n",
       "      <td>1</td>\n",
       "      <td>2</td>\n",
       "      <td>7.0</td>\n",
       "      <td>1</td>\n",
       "    </tr>\n",
       "    <tr>\n",
       "      <th>301</th>\n",
       "      <td>57</td>\n",
       "      <td>130</td>\n",
       "      <td>236</td>\n",
       "      <td>174</td>\n",
       "      <td>1.0</td>\n",
       "      <td>0.0</td>\n",
       "      <td>0</td>\n",
       "      <td>2</td>\n",
       "      <td>0</td>\n",
       "      <td>2</td>\n",
       "      <td>0</td>\n",
       "      <td>2</td>\n",
       "      <td>3.0</td>\n",
       "      <td>1</td>\n",
       "    </tr>\n",
       "    <tr>\n",
       "      <th>302</th>\n",
       "      <td>38</td>\n",
       "      <td>138</td>\n",
       "      <td>175</td>\n",
       "      <td>173</td>\n",
       "      <td>NaN</td>\n",
       "      <td>0.0</td>\n",
       "      <td>1</td>\n",
       "      <td>3</td>\n",
       "      <td>0</td>\n",
       "      <td>0</td>\n",
       "      <td>0</td>\n",
       "      <td>1</td>\n",
       "      <td>3.0</td>\n",
       "      <td>0</td>\n",
       "    </tr>\n",
       "  </tbody>\n",
       "</table>\n",
       "<p>303 rows × 14 columns</p>\n",
       "</div>"
      ],
      "text/plain": [
       "     age  trestbps  chol  thalach   ca  oldpeak  sex  cp  fbs  restecg  exang  \\\n",
       "0     63       145   233      150  0.0      2.3    1   1    1        2      0   \n",
       "1     67       160   286      108  3.0      1.5    1   4    0        2      1   \n",
       "2     67       120   229      129  2.0      2.6    1   4    0        2      1   \n",
       "3     37       130   250      187  0.0      3.5    1   3    0        0      0   \n",
       "4     41       130   204      172  0.0      1.4    0   2    0        2      0   \n",
       "..   ...       ...   ...      ...  ...      ...  ...  ..  ...      ...    ...   \n",
       "298   45       110   264      132  0.0      1.2    1   1    0        0      0   \n",
       "299   68       144   193      141  2.0      3.4    1   4    1        0      0   \n",
       "300   57       130   131      115  1.0      1.2    1   4    0        0      1   \n",
       "301   57       130   236      174  1.0      0.0    0   2    0        2      0   \n",
       "302   38       138   175      173  NaN      0.0    1   3    0        0      0   \n",
       "\n",
       "     slope  thal  num  \n",
       "0        3   6.0    0  \n",
       "1        2   3.0    1  \n",
       "2        2   7.0    1  \n",
       "3        3   3.0    0  \n",
       "4        1   3.0    0  \n",
       "..     ...   ...  ...  \n",
       "298      2   7.0    1  \n",
       "299      2   7.0    1  \n",
       "300      2   7.0    1  \n",
       "301      2   3.0    1  \n",
       "302      1   3.0    0  \n",
       "\n",
       "[303 rows x 14 columns]"
      ]
     },
     "execution_count": 1041,
     "metadata": {},
     "output_type": "execute_result"
    }
   ],
   "source": [
    "df_pp = df_pp[features_int + features_float + features_object]\n",
    "df_pp"
   ]
  },
  {
   "cell_type": "code",
   "execution_count": 1042,
   "id": "087ba098",
   "metadata": {},
   "outputs": [],
   "source": [
    "training_set, testing_set = train_test_split(df_pp, test_size = 0.2, random_state = 0)"
   ]
  },
  {
   "cell_type": "code",
   "execution_count": 1043,
   "id": "0e3cdaed",
   "metadata": {},
   "outputs": [
    {
     "name": "stdout",
     "output_type": "stream",
     "text": [
      "0    129\n",
      "1    113\n",
      "Name: num, dtype: int64\n",
      "0    35\n",
      "1    26\n",
      "Name: num, dtype: int64\n"
     ]
    }
   ],
   "source": [
    "print(training_set['num'].value_counts())\n",
    "print(testing_set['num'].value_counts())"
   ]
  },
  {
   "cell_type": "code",
   "execution_count": 1044,
   "id": "50e912d0",
   "metadata": {},
   "outputs": [
    {
     "data": {
      "text/html": [
       "<div>\n",
       "<style scoped>\n",
       "    .dataframe tbody tr th:only-of-type {\n",
       "        vertical-align: middle;\n",
       "    }\n",
       "\n",
       "    .dataframe tbody tr th {\n",
       "        vertical-align: top;\n",
       "    }\n",
       "\n",
       "    .dataframe thead th {\n",
       "        text-align: right;\n",
       "    }\n",
       "</style>\n",
       "<table border=\"1\" class=\"dataframe\">\n",
       "  <thead>\n",
       "    <tr style=\"text-align: right;\">\n",
       "      <th></th>\n",
       "      <th>age</th>\n",
       "      <th>trestbps</th>\n",
       "      <th>chol</th>\n",
       "      <th>thalach</th>\n",
       "      <th>ca</th>\n",
       "      <th>oldpeak</th>\n",
       "      <th>sex</th>\n",
       "      <th>cp</th>\n",
       "      <th>fbs</th>\n",
       "      <th>restecg</th>\n",
       "      <th>exang</th>\n",
       "      <th>slope</th>\n",
       "      <th>thal</th>\n",
       "      <th>num</th>\n",
       "    </tr>\n",
       "  </thead>\n",
       "  <tbody>\n",
       "    <tr>\n",
       "      <th>74</th>\n",
       "      <td>44</td>\n",
       "      <td>110</td>\n",
       "      <td>197</td>\n",
       "      <td>177</td>\n",
       "      <td>1.0</td>\n",
       "      <td>0.0</td>\n",
       "      <td>1</td>\n",
       "      <td>4</td>\n",
       "      <td>0</td>\n",
       "      <td>2</td>\n",
       "      <td>0</td>\n",
       "      <td>1</td>\n",
       "      <td>3.0</td>\n",
       "      <td>1</td>\n",
       "    </tr>\n",
       "    <tr>\n",
       "      <th>153</th>\n",
       "      <td>55</td>\n",
       "      <td>160</td>\n",
       "      <td>289</td>\n",
       "      <td>145</td>\n",
       "      <td>1.0</td>\n",
       "      <td>0.8</td>\n",
       "      <td>1</td>\n",
       "      <td>4</td>\n",
       "      <td>0</td>\n",
       "      <td>2</td>\n",
       "      <td>1</td>\n",
       "      <td>2</td>\n",
       "      <td>7.0</td>\n",
       "      <td>1</td>\n",
       "    </tr>\n",
       "    <tr>\n",
       "      <th>64</th>\n",
       "      <td>54</td>\n",
       "      <td>120</td>\n",
       "      <td>188</td>\n",
       "      <td>113</td>\n",
       "      <td>1.0</td>\n",
       "      <td>1.4</td>\n",
       "      <td>1</td>\n",
       "      <td>4</td>\n",
       "      <td>0</td>\n",
       "      <td>0</td>\n",
       "      <td>0</td>\n",
       "      <td>2</td>\n",
       "      <td>7.0</td>\n",
       "      <td>1</td>\n",
       "    </tr>\n",
       "    <tr>\n",
       "      <th>296</th>\n",
       "      <td>59</td>\n",
       "      <td>164</td>\n",
       "      <td>176</td>\n",
       "      <td>90</td>\n",
       "      <td>2.0</td>\n",
       "      <td>1.0</td>\n",
       "      <td>1</td>\n",
       "      <td>4</td>\n",
       "      <td>1</td>\n",
       "      <td>2</td>\n",
       "      <td>0</td>\n",
       "      <td>2</td>\n",
       "      <td>6.0</td>\n",
       "      <td>1</td>\n",
       "    </tr>\n",
       "    <tr>\n",
       "      <th>287</th>\n",
       "      <td>58</td>\n",
       "      <td>125</td>\n",
       "      <td>220</td>\n",
       "      <td>144</td>\n",
       "      <td>NaN</td>\n",
       "      <td>0.4</td>\n",
       "      <td>1</td>\n",
       "      <td>2</td>\n",
       "      <td>0</td>\n",
       "      <td>0</td>\n",
       "      <td>0</td>\n",
       "      <td>2</td>\n",
       "      <td>7.0</td>\n",
       "      <td>0</td>\n",
       "    </tr>\n",
       "    <tr>\n",
       "      <th>...</th>\n",
       "      <td>...</td>\n",
       "      <td>...</td>\n",
       "      <td>...</td>\n",
       "      <td>...</td>\n",
       "      <td>...</td>\n",
       "      <td>...</td>\n",
       "      <td>...</td>\n",
       "      <td>...</td>\n",
       "      <td>...</td>\n",
       "      <td>...</td>\n",
       "      <td>...</td>\n",
       "      <td>...</td>\n",
       "      <td>...</td>\n",
       "      <td>...</td>\n",
       "    </tr>\n",
       "    <tr>\n",
       "      <th>251</th>\n",
       "      <td>58</td>\n",
       "      <td>146</td>\n",
       "      <td>218</td>\n",
       "      <td>105</td>\n",
       "      <td>1.0</td>\n",
       "      <td>2.0</td>\n",
       "      <td>1</td>\n",
       "      <td>4</td>\n",
       "      <td>0</td>\n",
       "      <td>0</td>\n",
       "      <td>0</td>\n",
       "      <td>2</td>\n",
       "      <td>7.0</td>\n",
       "      <td>1</td>\n",
       "    </tr>\n",
       "    <tr>\n",
       "      <th>192</th>\n",
       "      <td>43</td>\n",
       "      <td>132</td>\n",
       "      <td>247</td>\n",
       "      <td>143</td>\n",
       "      <td>NaN</td>\n",
       "      <td>0.1</td>\n",
       "      <td>1</td>\n",
       "      <td>4</td>\n",
       "      <td>1</td>\n",
       "      <td>2</td>\n",
       "      <td>1</td>\n",
       "      <td>2</td>\n",
       "      <td>7.0</td>\n",
       "      <td>1</td>\n",
       "    </tr>\n",
       "    <tr>\n",
       "      <th>117</th>\n",
       "      <td>35</td>\n",
       "      <td>138</td>\n",
       "      <td>183</td>\n",
       "      <td>182</td>\n",
       "      <td>0.0</td>\n",
       "      <td>1.4</td>\n",
       "      <td>0</td>\n",
       "      <td>4</td>\n",
       "      <td>0</td>\n",
       "      <td>0</td>\n",
       "      <td>0</td>\n",
       "      <td>1</td>\n",
       "      <td>3.0</td>\n",
       "      <td>0</td>\n",
       "    </tr>\n",
       "    <tr>\n",
       "      <th>47</th>\n",
       "      <td>50</td>\n",
       "      <td>150</td>\n",
       "      <td>243</td>\n",
       "      <td>128</td>\n",
       "      <td>0.0</td>\n",
       "      <td>2.6</td>\n",
       "      <td>1</td>\n",
       "      <td>4</td>\n",
       "      <td>0</td>\n",
       "      <td>2</td>\n",
       "      <td>0</td>\n",
       "      <td>2</td>\n",
       "      <td>7.0</td>\n",
       "      <td>1</td>\n",
       "    </tr>\n",
       "    <tr>\n",
       "      <th>172</th>\n",
       "      <td>59</td>\n",
       "      <td>174</td>\n",
       "      <td>249</td>\n",
       "      <td>143</td>\n",
       "      <td>0.0</td>\n",
       "      <td>0.0</td>\n",
       "      <td>0</td>\n",
       "      <td>4</td>\n",
       "      <td>0</td>\n",
       "      <td>0</td>\n",
       "      <td>1</td>\n",
       "      <td>2</td>\n",
       "      <td>3.0</td>\n",
       "      <td>1</td>\n",
       "    </tr>\n",
       "  </tbody>\n",
       "</table>\n",
       "<p>242 rows × 14 columns</p>\n",
       "</div>"
      ],
      "text/plain": [
       "     age  trestbps  chol  thalach   ca  oldpeak  sex  cp  fbs  restecg  exang  \\\n",
       "74    44       110   197      177  1.0      0.0    1   4    0        2      0   \n",
       "153   55       160   289      145  1.0      0.8    1   4    0        2      1   \n",
       "64    54       120   188      113  1.0      1.4    1   4    0        0      0   \n",
       "296   59       164   176       90  2.0      1.0    1   4    1        2      0   \n",
       "287   58       125   220      144  NaN      0.4    1   2    0        0      0   \n",
       "..   ...       ...   ...      ...  ...      ...  ...  ..  ...      ...    ...   \n",
       "251   58       146   218      105  1.0      2.0    1   4    0        0      0   \n",
       "192   43       132   247      143  NaN      0.1    1   4    1        2      1   \n",
       "117   35       138   183      182  0.0      1.4    0   4    0        0      0   \n",
       "47    50       150   243      128  0.0      2.6    1   4    0        2      0   \n",
       "172   59       174   249      143  0.0      0.0    0   4    0        0      1   \n",
       "\n",
       "     slope  thal  num  \n",
       "74       1   3.0    1  \n",
       "153      2   7.0    1  \n",
       "64       2   7.0    1  \n",
       "296      2   6.0    1  \n",
       "287      2   7.0    0  \n",
       "..     ...   ...  ...  \n",
       "251      2   7.0    1  \n",
       "192      2   7.0    1  \n",
       "117      1   3.0    0  \n",
       "47       2   7.0    1  \n",
       "172      2   3.0    1  \n",
       "\n",
       "[242 rows x 14 columns]"
      ]
     },
     "execution_count": 1044,
     "metadata": {},
     "output_type": "execute_result"
    }
   ],
   "source": [
    "training_set"
   ]
  },
  {
   "cell_type": "markdown",
   "id": "73c80a3e",
   "metadata": {},
   "source": [
    "### Imputation"
   ]
  },
  {
   "cell_type": "code",
   "execution_count": 1045,
   "id": "f197f0ca",
   "metadata": {},
   "outputs": [],
   "source": [
    "def imputation(df_train, df_test):\n",
    "    # Données d'entrainement\n",
    "    ca_pos = df_train[df_train['num'] == 1]['ca'].mode()[0]\n",
    "    ca_neg = df_train[df_train['num'] == 0]['ca'].mode()[0]\n",
    "    df_train.loc[df_train['num'] == 1, 'ca'] = df_train.loc[df_train['num'] == 1, 'ca'].fillna(ca_pos)\n",
    "    df_train.loc[df_train['num'] == 0, 'ca'] = df_train.loc[df_train['num'] == 0, 'ca'].fillna(ca_neg)\n",
    "    thal_pos = df_train[df_train['num'] == 1]['thal'].mode()[0]\n",
    "    thal_neg = df_train[df_train['num'] == 0]['thal'].mode()[0]\n",
    "    df_train.loc[df_train['num'] == 1, 'thal'] = df_train.loc[df_train['num'] == 1, 'thal'].fillna(thal_pos)\n",
    "    df_train.loc[df_train['num'] == 0, 'thal'] = df_train.loc[df_train['num'] == 0, 'thal'].fillna(thal_neg)\n",
    "    \n",
    "    # Données de test\n",
    "    df_test.loc[df_test['num'] == 1, 'ca'] = df_test.loc[df_test['num'] == 1, 'ca'].fillna(ca_pos)\n",
    "    df_test.loc[df_test['num'] == 0, 'ca'] = df_test.loc[df_test['num'] == 0, 'ca'].fillna(ca_neg)\n",
    "    df_test.loc[df_test['num'] == 1, 'thal'] = df_test.loc[df_test['num'] == 1, 'thal'].fillna(thal_pos)\n",
    "    df_test.loc[df_test['num'] == 0, 'thal'] = df_test.loc[df_test['num'] == 0, 'thal'].fillna(thal_neg)\n",
    "    return(df_train, df_test)"
   ]
  },
  {
   "cell_type": "markdown",
   "id": "5c86a098",
   "metadata": {},
   "source": [
    "### Encodage"
   ]
  },
  {
   "cell_type": "code",
   "execution_count": 1046,
   "id": "9d0f0fde",
   "metadata": {},
   "outputs": [],
   "source": [
    "def encodage(df_train, df_test):\n",
    "    df_train = pd.get_dummies(df_train, columns=features_object[:-1], drop_first=True)\n",
    "    df_test = pd.get_dummies(df_test, columns=features_object[:-1], drop_first=True)\n",
    "    df_test = df_test.reindex(columns=df_train.columns, fill_value=0)\n",
    "    return(df_train, df_test)"
   ]
  },
  {
   "cell_type": "markdown",
   "id": "968fdb50",
   "metadata": {},
   "source": [
    "### Normalisation"
   ]
  },
  {
   "cell_type": "code",
   "execution_count": 1047,
   "id": "f2d17257",
   "metadata": {},
   "outputs": [],
   "source": [
    "def normalisation(df_train, df_test):\n",
    "    scaler = StandardScaler()\n",
    "    df_train[features_float+features_int] = scaler.fit_transform(df_train[features_float+features_int])\n",
    "    df_test[features_float+features_int] = scaler.transform(df_test[features_float+features_int])\n",
    "    return(df_train, df_test)"
   ]
  },
  {
   "cell_type": "markdown",
   "id": "732fe1dd",
   "metadata": {},
   "source": [
    "### Pre-processing"
   ]
  },
  {
   "cell_type": "code",
   "execution_count": 1048,
   "id": "a935c596",
   "metadata": {},
   "outputs": [],
   "source": [
    "def preprocessing(df_train, df_test):\n",
    "    df_train, df_test = imputation(df_train, df_test)\n",
    "    df_train, df_test = encodage(df_train, df_test)\n",
    "    df_train, df_test = normalisation(df_train, df_test)\n",
    "    X_train = df_train.drop('num', axis = 1)\n",
    "    Y_train = df_train['num']\n",
    "    X_test = df_test.drop('num', axis = 1)\n",
    "    Y_test = df_test['num']\n",
    "    return(X_train, Y_train, X_test, Y_test)"
   ]
  },
  {
   "cell_type": "code",
   "execution_count": 1049,
   "id": "1b2e4fec",
   "metadata": {},
   "outputs": [],
   "source": [
    "X_train, Y_train, X_test, Y_test = preprocessing(training_set, testing_set)"
   ]
  },
  {
   "cell_type": "code",
   "execution_count": 1050,
   "id": "3ab2fe2e",
   "metadata": {
    "scrolled": false
   },
   "outputs": [
    {
     "data": {
      "text/html": [
       "<div>\n",
       "<style scoped>\n",
       "    .dataframe tbody tr th:only-of-type {\n",
       "        vertical-align: middle;\n",
       "    }\n",
       "\n",
       "    .dataframe tbody tr th {\n",
       "        vertical-align: top;\n",
       "    }\n",
       "\n",
       "    .dataframe thead th {\n",
       "        text-align: right;\n",
       "    }\n",
       "</style>\n",
       "<table border=\"1\" class=\"dataframe\">\n",
       "  <thead>\n",
       "    <tr style=\"text-align: right;\">\n",
       "      <th></th>\n",
       "      <th>age</th>\n",
       "      <th>trestbps</th>\n",
       "      <th>chol</th>\n",
       "      <th>thalach</th>\n",
       "      <th>ca</th>\n",
       "      <th>oldpeak</th>\n",
       "      <th>sex_1</th>\n",
       "      <th>cp_2</th>\n",
       "      <th>cp_3</th>\n",
       "      <th>cp_4</th>\n",
       "      <th>fbs_1</th>\n",
       "      <th>restecg_1</th>\n",
       "      <th>restecg_2</th>\n",
       "      <th>exang_1</th>\n",
       "      <th>slope_2</th>\n",
       "      <th>slope_3</th>\n",
       "      <th>thal_6.0</th>\n",
       "      <th>thal_7.0</th>\n",
       "    </tr>\n",
       "  </thead>\n",
       "  <tbody>\n",
       "    <tr>\n",
       "      <th>74</th>\n",
       "      <td>-1.131852</td>\n",
       "      <td>-1.278857</td>\n",
       "      <td>-0.956978</td>\n",
       "      <td>1.243174</td>\n",
       "      <td>0.328889</td>\n",
       "      <td>-0.898143</td>\n",
       "      <td>1</td>\n",
       "      <td>0</td>\n",
       "      <td>0</td>\n",
       "      <td>1</td>\n",
       "      <td>0</td>\n",
       "      <td>0</td>\n",
       "      <td>1</td>\n",
       "      <td>0</td>\n",
       "      <td>0</td>\n",
       "      <td>0</td>\n",
       "      <td>0</td>\n",
       "      <td>0</td>\n",
       "    </tr>\n",
       "    <tr>\n",
       "      <th>153</th>\n",
       "      <td>0.072862</td>\n",
       "      <td>1.576683</td>\n",
       "      <td>0.878810</td>\n",
       "      <td>-0.194356</td>\n",
       "      <td>0.328889</td>\n",
       "      <td>-0.230912</td>\n",
       "      <td>1</td>\n",
       "      <td>0</td>\n",
       "      <td>0</td>\n",
       "      <td>1</td>\n",
       "      <td>0</td>\n",
       "      <td>0</td>\n",
       "      <td>1</td>\n",
       "      <td>1</td>\n",
       "      <td>1</td>\n",
       "      <td>0</td>\n",
       "      <td>0</td>\n",
       "      <td>1</td>\n",
       "    </tr>\n",
       "    <tr>\n",
       "      <th>64</th>\n",
       "      <td>-0.036657</td>\n",
       "      <td>-0.707749</td>\n",
       "      <td>-1.136566</td>\n",
       "      <td>-1.631886</td>\n",
       "      <td>0.328889</td>\n",
       "      <td>0.269512</td>\n",
       "      <td>1</td>\n",
       "      <td>0</td>\n",
       "      <td>0</td>\n",
       "      <td>1</td>\n",
       "      <td>0</td>\n",
       "      <td>0</td>\n",
       "      <td>0</td>\n",
       "      <td>0</td>\n",
       "      <td>1</td>\n",
       "      <td>0</td>\n",
       "      <td>0</td>\n",
       "      <td>1</td>\n",
       "    </tr>\n",
       "    <tr>\n",
       "      <th>296</th>\n",
       "      <td>0.510940</td>\n",
       "      <td>1.805126</td>\n",
       "      <td>-1.376016</td>\n",
       "      <td>-2.665111</td>\n",
       "      <td>1.362539</td>\n",
       "      <td>-0.064104</td>\n",
       "      <td>1</td>\n",
       "      <td>0</td>\n",
       "      <td>0</td>\n",
       "      <td>1</td>\n",
       "      <td>1</td>\n",
       "      <td>0</td>\n",
       "      <td>1</td>\n",
       "      <td>0</td>\n",
       "      <td>1</td>\n",
       "      <td>0</td>\n",
       "      <td>1</td>\n",
       "      <td>0</td>\n",
       "    </tr>\n",
       "    <tr>\n",
       "      <th>287</th>\n",
       "      <td>0.401421</td>\n",
       "      <td>-0.422195</td>\n",
       "      <td>-0.498031</td>\n",
       "      <td>-0.239279</td>\n",
       "      <td>-0.704761</td>\n",
       "      <td>-0.564527</td>\n",
       "      <td>1</td>\n",
       "      <td>1</td>\n",
       "      <td>0</td>\n",
       "      <td>0</td>\n",
       "      <td>0</td>\n",
       "      <td>0</td>\n",
       "      <td>0</td>\n",
       "      <td>0</td>\n",
       "      <td>1</td>\n",
       "      <td>0</td>\n",
       "      <td>0</td>\n",
       "      <td>1</td>\n",
       "    </tr>\n",
       "    <tr>\n",
       "      <th>...</th>\n",
       "      <td>...</td>\n",
       "      <td>...</td>\n",
       "      <td>...</td>\n",
       "      <td>...</td>\n",
       "      <td>...</td>\n",
       "      <td>...</td>\n",
       "      <td>...</td>\n",
       "      <td>...</td>\n",
       "      <td>...</td>\n",
       "      <td>...</td>\n",
       "      <td>...</td>\n",
       "      <td>...</td>\n",
       "      <td>...</td>\n",
       "      <td>...</td>\n",
       "      <td>...</td>\n",
       "      <td>...</td>\n",
       "      <td>...</td>\n",
       "      <td>...</td>\n",
       "    </tr>\n",
       "    <tr>\n",
       "      <th>251</th>\n",
       "      <td>0.401421</td>\n",
       "      <td>0.777132</td>\n",
       "      <td>-0.537939</td>\n",
       "      <td>-1.991269</td>\n",
       "      <td>0.328889</td>\n",
       "      <td>0.769935</td>\n",
       "      <td>1</td>\n",
       "      <td>0</td>\n",
       "      <td>0</td>\n",
       "      <td>1</td>\n",
       "      <td>0</td>\n",
       "      <td>0</td>\n",
       "      <td>0</td>\n",
       "      <td>0</td>\n",
       "      <td>1</td>\n",
       "      <td>0</td>\n",
       "      <td>0</td>\n",
       "      <td>1</td>\n",
       "    </tr>\n",
       "    <tr>\n",
       "      <th>192</th>\n",
       "      <td>-1.241372</td>\n",
       "      <td>-0.022420</td>\n",
       "      <td>0.040733</td>\n",
       "      <td>-0.284202</td>\n",
       "      <td>-0.704761</td>\n",
       "      <td>-0.814739</td>\n",
       "      <td>1</td>\n",
       "      <td>0</td>\n",
       "      <td>0</td>\n",
       "      <td>1</td>\n",
       "      <td>1</td>\n",
       "      <td>0</td>\n",
       "      <td>1</td>\n",
       "      <td>1</td>\n",
       "      <td>1</td>\n",
       "      <td>0</td>\n",
       "      <td>0</td>\n",
       "      <td>1</td>\n",
       "    </tr>\n",
       "    <tr>\n",
       "      <th>117</th>\n",
       "      <td>-2.117527</td>\n",
       "      <td>0.320245</td>\n",
       "      <td>-1.236337</td>\n",
       "      <td>1.467788</td>\n",
       "      <td>-0.704761</td>\n",
       "      <td>0.269512</td>\n",
       "      <td>0</td>\n",
       "      <td>0</td>\n",
       "      <td>0</td>\n",
       "      <td>1</td>\n",
       "      <td>0</td>\n",
       "      <td>0</td>\n",
       "      <td>0</td>\n",
       "      <td>0</td>\n",
       "      <td>0</td>\n",
       "      <td>0</td>\n",
       "      <td>0</td>\n",
       "      <td>0</td>\n",
       "    </tr>\n",
       "    <tr>\n",
       "      <th>47</th>\n",
       "      <td>-0.474735</td>\n",
       "      <td>1.005575</td>\n",
       "      <td>-0.039084</td>\n",
       "      <td>-0.958044</td>\n",
       "      <td>-0.704761</td>\n",
       "      <td>1.270359</td>\n",
       "      <td>1</td>\n",
       "      <td>0</td>\n",
       "      <td>0</td>\n",
       "      <td>1</td>\n",
       "      <td>0</td>\n",
       "      <td>0</td>\n",
       "      <td>1</td>\n",
       "      <td>0</td>\n",
       "      <td>1</td>\n",
       "      <td>0</td>\n",
       "      <td>0</td>\n",
       "      <td>1</td>\n",
       "    </tr>\n",
       "    <tr>\n",
       "      <th>172</th>\n",
       "      <td>0.510940</td>\n",
       "      <td>2.376234</td>\n",
       "      <td>0.080641</td>\n",
       "      <td>-0.284202</td>\n",
       "      <td>-0.704761</td>\n",
       "      <td>-0.898143</td>\n",
       "      <td>0</td>\n",
       "      <td>0</td>\n",
       "      <td>0</td>\n",
       "      <td>1</td>\n",
       "      <td>0</td>\n",
       "      <td>0</td>\n",
       "      <td>0</td>\n",
       "      <td>1</td>\n",
       "      <td>1</td>\n",
       "      <td>0</td>\n",
       "      <td>0</td>\n",
       "      <td>0</td>\n",
       "    </tr>\n",
       "  </tbody>\n",
       "</table>\n",
       "<p>242 rows × 18 columns</p>\n",
       "</div>"
      ],
      "text/plain": [
       "          age  trestbps      chol   thalach        ca   oldpeak  sex_1  cp_2  \\\n",
       "74  -1.131852 -1.278857 -0.956978  1.243174  0.328889 -0.898143      1     0   \n",
       "153  0.072862  1.576683  0.878810 -0.194356  0.328889 -0.230912      1     0   \n",
       "64  -0.036657 -0.707749 -1.136566 -1.631886  0.328889  0.269512      1     0   \n",
       "296  0.510940  1.805126 -1.376016 -2.665111  1.362539 -0.064104      1     0   \n",
       "287  0.401421 -0.422195 -0.498031 -0.239279 -0.704761 -0.564527      1     1   \n",
       "..        ...       ...       ...       ...       ...       ...    ...   ...   \n",
       "251  0.401421  0.777132 -0.537939 -1.991269  0.328889  0.769935      1     0   \n",
       "192 -1.241372 -0.022420  0.040733 -0.284202 -0.704761 -0.814739      1     0   \n",
       "117 -2.117527  0.320245 -1.236337  1.467788 -0.704761  0.269512      0     0   \n",
       "47  -0.474735  1.005575 -0.039084 -0.958044 -0.704761  1.270359      1     0   \n",
       "172  0.510940  2.376234  0.080641 -0.284202 -0.704761 -0.898143      0     0   \n",
       "\n",
       "     cp_3  cp_4  fbs_1  restecg_1  restecg_2  exang_1  slope_2  slope_3  \\\n",
       "74      0     1      0          0          1        0        0        0   \n",
       "153     0     1      0          0          1        1        1        0   \n",
       "64      0     1      0          0          0        0        1        0   \n",
       "296     0     1      1          0          1        0        1        0   \n",
       "287     0     0      0          0          0        0        1        0   \n",
       "..    ...   ...    ...        ...        ...      ...      ...      ...   \n",
       "251     0     1      0          0          0        0        1        0   \n",
       "192     0     1      1          0          1        1        1        0   \n",
       "117     0     1      0          0          0        0        0        0   \n",
       "47      0     1      0          0          1        0        1        0   \n",
       "172     0     1      0          0          0        1        1        0   \n",
       "\n",
       "     thal_6.0  thal_7.0  \n",
       "74          0         0  \n",
       "153         0         1  \n",
       "64          0         1  \n",
       "296         1         0  \n",
       "287         0         1  \n",
       "..        ...       ...  \n",
       "251         0         1  \n",
       "192         0         1  \n",
       "117         0         0  \n",
       "47          0         1  \n",
       "172         0         0  \n",
       "\n",
       "[242 rows x 18 columns]"
      ]
     },
     "execution_count": 1050,
     "metadata": {},
     "output_type": "execute_result"
    }
   ],
   "source": [
    "X_train"
   ]
  },
  {
   "cell_type": "code",
   "execution_count": 1051,
   "id": "6f76b9ac",
   "metadata": {
    "scrolled": true
   },
   "outputs": [
    {
     "data": {
      "text/html": [
       "<div>\n",
       "<style scoped>\n",
       "    .dataframe tbody tr th:only-of-type {\n",
       "        vertical-align: middle;\n",
       "    }\n",
       "\n",
       "    .dataframe tbody tr th {\n",
       "        vertical-align: top;\n",
       "    }\n",
       "\n",
       "    .dataframe thead th {\n",
       "        text-align: right;\n",
       "    }\n",
       "</style>\n",
       "<table border=\"1\" class=\"dataframe\">\n",
       "  <thead>\n",
       "    <tr style=\"text-align: right;\">\n",
       "      <th></th>\n",
       "      <th>age</th>\n",
       "      <th>trestbps</th>\n",
       "      <th>chol</th>\n",
       "      <th>thalach</th>\n",
       "      <th>ca</th>\n",
       "      <th>oldpeak</th>\n",
       "      <th>sex_1</th>\n",
       "      <th>cp_2</th>\n",
       "      <th>cp_3</th>\n",
       "      <th>cp_4</th>\n",
       "      <th>fbs_1</th>\n",
       "      <th>restecg_1</th>\n",
       "      <th>restecg_2</th>\n",
       "      <th>exang_1</th>\n",
       "      <th>slope_2</th>\n",
       "      <th>slope_3</th>\n",
       "      <th>thal_6.0</th>\n",
       "      <th>thal_7.0</th>\n",
       "    </tr>\n",
       "  </thead>\n",
       "  <tbody>\n",
       "    <tr>\n",
       "      <th>225</th>\n",
       "      <td>-2.227047</td>\n",
       "      <td>-0.821971</td>\n",
       "      <td>-0.697573</td>\n",
       "      <td>1.917016</td>\n",
       "      <td>-0.704761</td>\n",
       "      <td>-0.314316</td>\n",
       "      <td>0</td>\n",
       "      <td>1</td>\n",
       "      <td>0</td>\n",
       "      <td>0</td>\n",
       "      <td>0</td>\n",
       "      <td>0</td>\n",
       "      <td>0</td>\n",
       "      <td>0</td>\n",
       "      <td>0</td>\n",
       "      <td>0</td>\n",
       "      <td>0</td>\n",
       "      <td>0</td>\n",
       "    </tr>\n",
       "    <tr>\n",
       "      <th>152</th>\n",
       "      <td>1.387096</td>\n",
       "      <td>-0.993303</td>\n",
       "      <td>6.366219</td>\n",
       "      <td>0.479486</td>\n",
       "      <td>-0.704761</td>\n",
       "      <td>0.436320</td>\n",
       "      <td>0</td>\n",
       "      <td>0</td>\n",
       "      <td>1</td>\n",
       "      <td>0</td>\n",
       "      <td>0</td>\n",
       "      <td>0</td>\n",
       "      <td>1</td>\n",
       "      <td>0</td>\n",
       "      <td>1</td>\n",
       "      <td>0</td>\n",
       "      <td>0</td>\n",
       "      <td>1</td>\n",
       "    </tr>\n",
       "    <tr>\n",
       "      <th>228</th>\n",
       "      <td>-0.036657</td>\n",
       "      <td>-1.278857</td>\n",
       "      <td>-0.777390</td>\n",
       "      <td>-1.856500</td>\n",
       "      <td>0.328889</td>\n",
       "      <td>-0.898143</td>\n",
       "      <td>1</td>\n",
       "      <td>0</td>\n",
       "      <td>0</td>\n",
       "      <td>1</td>\n",
       "      <td>0</td>\n",
       "      <td>0</td>\n",
       "      <td>1</td>\n",
       "      <td>1</td>\n",
       "      <td>1</td>\n",
       "      <td>0</td>\n",
       "      <td>0</td>\n",
       "      <td>0</td>\n",
       "    </tr>\n",
       "    <tr>\n",
       "      <th>201</th>\n",
       "      <td>1.058537</td>\n",
       "      <td>2.718899</td>\n",
       "      <td>1.597162</td>\n",
       "      <td>0.209949</td>\n",
       "      <td>-0.704761</td>\n",
       "      <td>-0.898143</td>\n",
       "      <td>0</td>\n",
       "      <td>0</td>\n",
       "      <td>0</td>\n",
       "      <td>1</td>\n",
       "      <td>0</td>\n",
       "      <td>0</td>\n",
       "      <td>0</td>\n",
       "      <td>1</td>\n",
       "      <td>0</td>\n",
       "      <td>0</td>\n",
       "      <td>0</td>\n",
       "      <td>0</td>\n",
       "    </tr>\n",
       "    <tr>\n",
       "      <th>52</th>\n",
       "      <td>-1.131852</td>\n",
       "      <td>-1.164636</td>\n",
       "      <td>0.898764</td>\n",
       "      <td>0.165026</td>\n",
       "      <td>0.328889</td>\n",
       "      <td>-0.898143</td>\n",
       "      <td>1</td>\n",
       "      <td>0</td>\n",
       "      <td>0</td>\n",
       "      <td>1</td>\n",
       "      <td>0</td>\n",
       "      <td>0</td>\n",
       "      <td>1</td>\n",
       "      <td>0</td>\n",
       "      <td>0</td>\n",
       "      <td>0</td>\n",
       "      <td>0</td>\n",
       "      <td>0</td>\n",
       "    </tr>\n",
       "    <tr>\n",
       "      <th>245</th>\n",
       "      <td>1.387096</td>\n",
       "      <td>-0.707749</td>\n",
       "      <td>-0.158809</td>\n",
       "      <td>-3.518644</td>\n",
       "      <td>-0.704761</td>\n",
       "      <td>-0.064104</td>\n",
       "      <td>1</td>\n",
       "      <td>0</td>\n",
       "      <td>0</td>\n",
       "      <td>1</td>\n",
       "      <td>0</td>\n",
       "      <td>0</td>\n",
       "      <td>0</td>\n",
       "      <td>0</td>\n",
       "      <td>1</td>\n",
       "      <td>0</td>\n",
       "      <td>0</td>\n",
       "      <td>0</td>\n",
       "    </tr>\n",
       "    <tr>\n",
       "      <th>175</th>\n",
       "      <td>0.291901</td>\n",
       "      <td>1.119797</td>\n",
       "      <td>0.579497</td>\n",
       "      <td>-2.754956</td>\n",
       "      <td>0.328889</td>\n",
       "      <td>0.102704</td>\n",
       "      <td>1</td>\n",
       "      <td>0</td>\n",
       "      <td>0</td>\n",
       "      <td>1</td>\n",
       "      <td>0</td>\n",
       "      <td>0</td>\n",
       "      <td>0</td>\n",
       "      <td>1</td>\n",
       "      <td>1</td>\n",
       "      <td>0</td>\n",
       "      <td>0</td>\n",
       "      <td>1</td>\n",
       "    </tr>\n",
       "    <tr>\n",
       "      <th>168</th>\n",
       "      <td>-2.117527</td>\n",
       "      <td>-0.365084</td>\n",
       "      <td>0.739130</td>\n",
       "      <td>0.299795</td>\n",
       "      <td>-0.704761</td>\n",
       "      <td>-0.898143</td>\n",
       "      <td>1</td>\n",
       "      <td>0</td>\n",
       "      <td>0</td>\n",
       "      <td>1</td>\n",
       "      <td>0</td>\n",
       "      <td>0</td>\n",
       "      <td>1</td>\n",
       "      <td>1</td>\n",
       "      <td>0</td>\n",
       "      <td>0</td>\n",
       "      <td>0</td>\n",
       "      <td>1</td>\n",
       "    </tr>\n",
       "    <tr>\n",
       "      <th>223</th>\n",
       "      <td>-0.146177</td>\n",
       "      <td>-0.536417</td>\n",
       "      <td>0.739130</td>\n",
       "      <td>-2.440497</td>\n",
       "      <td>1.362539</td>\n",
       "      <td>0.769935</td>\n",
       "      <td>1</td>\n",
       "      <td>0</td>\n",
       "      <td>0</td>\n",
       "      <td>1</td>\n",
       "      <td>0</td>\n",
       "      <td>0</td>\n",
       "      <td>0</td>\n",
       "      <td>1</td>\n",
       "      <td>1</td>\n",
       "      <td>0</td>\n",
       "      <td>0</td>\n",
       "      <td>1</td>\n",
       "    </tr>\n",
       "    <tr>\n",
       "      <th>217</th>\n",
       "      <td>-0.912813</td>\n",
       "      <td>0.320245</td>\n",
       "      <td>-0.039084</td>\n",
       "      <td>0.120104</td>\n",
       "      <td>-0.704761</td>\n",
       "      <td>-0.898143</td>\n",
       "      <td>0</td>\n",
       "      <td>0</td>\n",
       "      <td>0</td>\n",
       "      <td>1</td>\n",
       "      <td>0</td>\n",
       "      <td>0</td>\n",
       "      <td>1</td>\n",
       "      <td>1</td>\n",
       "      <td>1</td>\n",
       "      <td>0</td>\n",
       "      <td>0</td>\n",
       "      <td>0</td>\n",
       "    </tr>\n",
       "    <tr>\n",
       "      <th>111</th>\n",
       "      <td>0.182382</td>\n",
       "      <td>-0.422195</td>\n",
       "      <td>0.080641</td>\n",
       "      <td>-0.239279</td>\n",
       "      <td>0.328889</td>\n",
       "      <td>0.102704</td>\n",
       "      <td>1</td>\n",
       "      <td>0</td>\n",
       "      <td>0</td>\n",
       "      <td>1</td>\n",
       "      <td>1</td>\n",
       "      <td>0</td>\n",
       "      <td>1</td>\n",
       "      <td>1</td>\n",
       "      <td>1</td>\n",
       "      <td>0</td>\n",
       "      <td>0</td>\n",
       "      <td>0</td>\n",
       "    </tr>\n",
       "    <tr>\n",
       "      <th>135</th>\n",
       "      <td>0.072862</td>\n",
       "      <td>0.148913</td>\n",
       "      <td>0.100596</td>\n",
       "      <td>0.524409</td>\n",
       "      <td>-0.704761</td>\n",
       "      <td>0.269512</td>\n",
       "      <td>0</td>\n",
       "      <td>1</td>\n",
       "      <td>0</td>\n",
       "      <td>0</td>\n",
       "      <td>0</td>\n",
       "      <td>0</td>\n",
       "      <td>1</td>\n",
       "      <td>0</td>\n",
       "      <td>1</td>\n",
       "      <td>0</td>\n",
       "      <td>0</td>\n",
       "      <td>0</td>\n",
       "    </tr>\n",
       "    <tr>\n",
       "      <th>218</th>\n",
       "      <td>1.058537</td>\n",
       "      <td>-0.136641</td>\n",
       "      <td>1.158169</td>\n",
       "      <td>-1.227581</td>\n",
       "      <td>1.362539</td>\n",
       "      <td>0.769935</td>\n",
       "      <td>0</td>\n",
       "      <td>0</td>\n",
       "      <td>0</td>\n",
       "      <td>1</td>\n",
       "      <td>0</td>\n",
       "      <td>0</td>\n",
       "      <td>0</td>\n",
       "      <td>0</td>\n",
       "      <td>1</td>\n",
       "      <td>0</td>\n",
       "      <td>0</td>\n",
       "      <td>0</td>\n",
       "    </tr>\n",
       "    <tr>\n",
       "      <th>12</th>\n",
       "      <td>0.182382</td>\n",
       "      <td>-0.136641</td>\n",
       "      <td>0.220321</td>\n",
       "      <td>-0.329125</td>\n",
       "      <td>0.328889</td>\n",
       "      <td>-0.397720</td>\n",
       "      <td>1</td>\n",
       "      <td>0</td>\n",
       "      <td>1</td>\n",
       "      <td>0</td>\n",
       "      <td>1</td>\n",
       "      <td>0</td>\n",
       "      <td>1</td>\n",
       "      <td>1</td>\n",
       "      <td>1</td>\n",
       "      <td>0</td>\n",
       "      <td>1</td>\n",
       "      <td>0</td>\n",
       "    </tr>\n",
       "    <tr>\n",
       "      <th>15</th>\n",
       "      <td>0.291901</td>\n",
       "      <td>1.005575</td>\n",
       "      <td>-1.535650</td>\n",
       "      <td>1.108405</td>\n",
       "      <td>-0.704761</td>\n",
       "      <td>0.436320</td>\n",
       "      <td>1</td>\n",
       "      <td>0</td>\n",
       "      <td>1</td>\n",
       "      <td>0</td>\n",
       "      <td>0</td>\n",
       "      <td>0</td>\n",
       "      <td>0</td>\n",
       "      <td>0</td>\n",
       "      <td>0</td>\n",
       "      <td>0</td>\n",
       "      <td>0</td>\n",
       "      <td>0</td>\n",
       "    </tr>\n",
       "    <tr>\n",
       "      <th>66</th>\n",
       "      <td>0.620459</td>\n",
       "      <td>0.434467</td>\n",
       "      <td>-1.196428</td>\n",
       "      <td>0.254872</td>\n",
       "      <td>-0.704761</td>\n",
       "      <td>1.603975</td>\n",
       "      <td>1</td>\n",
       "      <td>0</td>\n",
       "      <td>1</td>\n",
       "      <td>0</td>\n",
       "      <td>0</td>\n",
       "      <td>0</td>\n",
       "      <td>1</td>\n",
       "      <td>0</td>\n",
       "      <td>1</td>\n",
       "      <td>0</td>\n",
       "      <td>0</td>\n",
       "      <td>0</td>\n",
       "    </tr>\n",
       "    <tr>\n",
       "      <th>97</th>\n",
       "      <td>0.620459</td>\n",
       "      <td>1.005575</td>\n",
       "      <td>0.260229</td>\n",
       "      <td>0.344718</td>\n",
       "      <td>1.362539</td>\n",
       "      <td>1.270359</td>\n",
       "      <td>0</td>\n",
       "      <td>0</td>\n",
       "      <td>0</td>\n",
       "      <td>1</td>\n",
       "      <td>0</td>\n",
       "      <td>0</td>\n",
       "      <td>1</td>\n",
       "      <td>0</td>\n",
       "      <td>1</td>\n",
       "      <td>0</td>\n",
       "      <td>0</td>\n",
       "      <td>1</td>\n",
       "    </tr>\n",
       "    <tr>\n",
       "      <th>90</th>\n",
       "      <td>1.277576</td>\n",
       "      <td>-0.707749</td>\n",
       "      <td>1.138215</td>\n",
       "      <td>0.075181</td>\n",
       "      <td>-0.704761</td>\n",
       "      <td>-0.564527</td>\n",
       "      <td>1</td>\n",
       "      <td>0</td>\n",
       "      <td>0</td>\n",
       "      <td>1</td>\n",
       "      <td>0</td>\n",
       "      <td>0</td>\n",
       "      <td>1</td>\n",
       "      <td>0</td>\n",
       "      <td>1</td>\n",
       "      <td>0</td>\n",
       "      <td>0</td>\n",
       "      <td>0</td>\n",
       "    </tr>\n",
       "    <tr>\n",
       "      <th>198</th>\n",
       "      <td>-0.474735</td>\n",
       "      <td>-0.707749</td>\n",
       "      <td>-0.019130</td>\n",
       "      <td>0.569332</td>\n",
       "      <td>-0.704761</td>\n",
       "      <td>0.019300</td>\n",
       "      <td>0</td>\n",
       "      <td>1</td>\n",
       "      <td>0</td>\n",
       "      <td>0</td>\n",
       "      <td>0</td>\n",
       "      <td>0</td>\n",
       "      <td>0</td>\n",
       "      <td>0</td>\n",
       "      <td>0</td>\n",
       "      <td>0</td>\n",
       "      <td>0</td>\n",
       "      <td>0</td>\n",
       "    </tr>\n",
       "    <tr>\n",
       "      <th>103</th>\n",
       "      <td>1.825174</td>\n",
       "      <td>-1.278857</td>\n",
       "      <td>0.399909</td>\n",
       "      <td>-0.868198</td>\n",
       "      <td>0.328889</td>\n",
       "      <td>-0.898143</td>\n",
       "      <td>0</td>\n",
       "      <td>0</td>\n",
       "      <td>1</td>\n",
       "      <td>0</td>\n",
       "      <td>1</td>\n",
       "      <td>0</td>\n",
       "      <td>1</td>\n",
       "      <td>0</td>\n",
       "      <td>0</td>\n",
       "      <td>0</td>\n",
       "      <td>0</td>\n",
       "      <td>0</td>\n",
       "    </tr>\n",
       "    <tr>\n",
       "      <th>22</th>\n",
       "      <td>0.401421</td>\n",
       "      <td>-0.707749</td>\n",
       "      <td>0.779039</td>\n",
       "      <td>0.479486</td>\n",
       "      <td>-0.704761</td>\n",
       "      <td>0.603128</td>\n",
       "      <td>1</td>\n",
       "      <td>1</td>\n",
       "      <td>0</td>\n",
       "      <td>0</td>\n",
       "      <td>0</td>\n",
       "      <td>0</td>\n",
       "      <td>1</td>\n",
       "      <td>0</td>\n",
       "      <td>1</td>\n",
       "      <td>0</td>\n",
       "      <td>0</td>\n",
       "      <td>0</td>\n",
       "    </tr>\n",
       "    <tr>\n",
       "      <th>212</th>\n",
       "      <td>-1.460411</td>\n",
       "      <td>-0.136641</td>\n",
       "      <td>-0.617756</td>\n",
       "      <td>0.838869</td>\n",
       "      <td>-0.704761</td>\n",
       "      <td>0.769935</td>\n",
       "      <td>1</td>\n",
       "      <td>0</td>\n",
       "      <td>1</td>\n",
       "      <td>0</td>\n",
       "      <td>0</td>\n",
       "      <td>0</td>\n",
       "      <td>1</td>\n",
       "      <td>0</td>\n",
       "      <td>1</td>\n",
       "      <td>0</td>\n",
       "      <td>0</td>\n",
       "      <td>0</td>\n",
       "    </tr>\n",
       "    <tr>\n",
       "      <th>226</th>\n",
       "      <td>-0.803294</td>\n",
       "      <td>-1.164636</td>\n",
       "      <td>-0.817298</td>\n",
       "      <td>-0.284202</td>\n",
       "      <td>-0.704761</td>\n",
       "      <td>-0.814739</td>\n",
       "      <td>1</td>\n",
       "      <td>0</td>\n",
       "      <td>0</td>\n",
       "      <td>1</td>\n",
       "      <td>0</td>\n",
       "      <td>0</td>\n",
       "      <td>0</td>\n",
       "      <td>0</td>\n",
       "      <td>0</td>\n",
       "      <td>0</td>\n",
       "      <td>0</td>\n",
       "      <td>0</td>\n",
       "    </tr>\n",
       "    <tr>\n",
       "      <th>264</th>\n",
       "      <td>0.729979</td>\n",
       "      <td>0.320245</td>\n",
       "      <td>-1.575558</td>\n",
       "      <td>-1.092812</td>\n",
       "      <td>0.328889</td>\n",
       "      <td>2.104398</td>\n",
       "      <td>1</td>\n",
       "      <td>0</td>\n",
       "      <td>0</td>\n",
       "      <td>1</td>\n",
       "      <td>0</td>\n",
       "      <td>0</td>\n",
       "      <td>1</td>\n",
       "      <td>1</td>\n",
       "      <td>1</td>\n",
       "      <td>0</td>\n",
       "      <td>0</td>\n",
       "      <td>0</td>\n",
       "    </tr>\n",
       "    <tr>\n",
       "      <th>133</th>\n",
       "      <td>-0.365216</td>\n",
       "      <td>0.434467</td>\n",
       "      <td>0.320092</td>\n",
       "      <td>1.647479</td>\n",
       "      <td>-0.704761</td>\n",
       "      <td>-0.898143</td>\n",
       "      <td>1</td>\n",
       "      <td>0</td>\n",
       "      <td>0</td>\n",
       "      <td>1</td>\n",
       "      <td>0</td>\n",
       "      <td>0</td>\n",
       "      <td>1</td>\n",
       "      <td>1</td>\n",
       "      <td>0</td>\n",
       "      <td>0</td>\n",
       "      <td>0</td>\n",
       "      <td>0</td>\n",
       "    </tr>\n",
       "    <tr>\n",
       "      <th>216</th>\n",
       "      <td>-0.912813</td>\n",
       "      <td>-1.564411</td>\n",
       "      <td>-0.817298</td>\n",
       "      <td>1.018560</td>\n",
       "      <td>-0.704761</td>\n",
       "      <td>-0.898143</td>\n",
       "      <td>0</td>\n",
       "      <td>1</td>\n",
       "      <td>0</td>\n",
       "      <td>0</td>\n",
       "      <td>0</td>\n",
       "      <td>0</td>\n",
       "      <td>0</td>\n",
       "      <td>0</td>\n",
       "      <td>0</td>\n",
       "      <td>0</td>\n",
       "      <td>0</td>\n",
       "      <td>0</td>\n",
       "    </tr>\n",
       "    <tr>\n",
       "      <th>275</th>\n",
       "      <td>1.058537</td>\n",
       "      <td>2.147791</td>\n",
       "      <td>-0.358351</td>\n",
       "      <td>0.254872</td>\n",
       "      <td>-0.704761</td>\n",
       "      <td>-0.397720</td>\n",
       "      <td>1</td>\n",
       "      <td>0</td>\n",
       "      <td>0</td>\n",
       "      <td>0</td>\n",
       "      <td>0</td>\n",
       "      <td>0</td>\n",
       "      <td>1</td>\n",
       "      <td>0</td>\n",
       "      <td>1</td>\n",
       "      <td>0</td>\n",
       "      <td>0</td>\n",
       "      <td>1</td>\n",
       "    </tr>\n",
       "    <tr>\n",
       "      <th>270</th>\n",
       "      <td>0.729979</td>\n",
       "      <td>0.434467</td>\n",
       "      <td>-0.757436</td>\n",
       "      <td>-0.508816</td>\n",
       "      <td>0.328889</td>\n",
       "      <td>0.686531</td>\n",
       "      <td>1</td>\n",
       "      <td>0</td>\n",
       "      <td>0</td>\n",
       "      <td>1</td>\n",
       "      <td>0</td>\n",
       "      <td>0</td>\n",
       "      <td>1</td>\n",
       "      <td>1</td>\n",
       "      <td>0</td>\n",
       "      <td>0</td>\n",
       "      <td>0</td>\n",
       "      <td>1</td>\n",
       "    </tr>\n",
       "    <tr>\n",
       "      <th>154</th>\n",
       "      <td>1.058537</td>\n",
       "      <td>-0.707749</td>\n",
       "      <td>0.020779</td>\n",
       "      <td>-2.395574</td>\n",
       "      <td>0.328889</td>\n",
       "      <td>0.936743</td>\n",
       "      <td>1</td>\n",
       "      <td>0</td>\n",
       "      <td>0</td>\n",
       "      <td>1</td>\n",
       "      <td>0</td>\n",
       "      <td>0</td>\n",
       "      <td>1</td>\n",
       "      <td>1</td>\n",
       "      <td>0</td>\n",
       "      <td>1</td>\n",
       "      <td>0</td>\n",
       "      <td>0</td>\n",
       "    </tr>\n",
       "    <tr>\n",
       "      <th>55</th>\n",
       "      <td>-0.036657</td>\n",
       "      <td>-0.479306</td>\n",
       "      <td>0.419863</td>\n",
       "      <td>-1.811577</td>\n",
       "      <td>0.328889</td>\n",
       "      <td>0.936743</td>\n",
       "      <td>1</td>\n",
       "      <td>0</td>\n",
       "      <td>0</td>\n",
       "      <td>1</td>\n",
       "      <td>0</td>\n",
       "      <td>0</td>\n",
       "      <td>1</td>\n",
       "      <td>1</td>\n",
       "      <td>1</td>\n",
       "      <td>0</td>\n",
       "      <td>0</td>\n",
       "      <td>1</td>\n",
       "    </tr>\n",
       "    <tr>\n",
       "      <th>194</th>\n",
       "      <td>1.496615</td>\n",
       "      <td>-0.707749</td>\n",
       "      <td>-0.677619</td>\n",
       "      <td>-1.542040</td>\n",
       "      <td>-0.704761</td>\n",
       "      <td>0.352916</td>\n",
       "      <td>0</td>\n",
       "      <td>0</td>\n",
       "      <td>1</td>\n",
       "      <td>0</td>\n",
       "      <td>0</td>\n",
       "      <td>0</td>\n",
       "      <td>1</td>\n",
       "      <td>0</td>\n",
       "      <td>1</td>\n",
       "      <td>0</td>\n",
       "      <td>0</td>\n",
       "      <td>0</td>\n",
       "    </tr>\n",
       "    <tr>\n",
       "      <th>255</th>\n",
       "      <td>-1.350891</td>\n",
       "      <td>-0.707749</td>\n",
       "      <td>-0.717527</td>\n",
       "      <td>1.063483</td>\n",
       "      <td>-0.704761</td>\n",
       "      <td>-0.898143</td>\n",
       "      <td>0</td>\n",
       "      <td>0</td>\n",
       "      <td>1</td>\n",
       "      <td>0</td>\n",
       "      <td>0</td>\n",
       "      <td>0</td>\n",
       "      <td>0</td>\n",
       "      <td>0</td>\n",
       "      <td>1</td>\n",
       "      <td>0</td>\n",
       "      <td>0</td>\n",
       "      <td>0</td>\n",
       "    </tr>\n",
       "    <tr>\n",
       "      <th>134</th>\n",
       "      <td>-1.241372</td>\n",
       "      <td>-0.593528</td>\n",
       "      <td>-0.637710</td>\n",
       "      <td>0.704100</td>\n",
       "      <td>-0.704761</td>\n",
       "      <td>-0.731335</td>\n",
       "      <td>0</td>\n",
       "      <td>0</td>\n",
       "      <td>1</td>\n",
       "      <td>0</td>\n",
       "      <td>0</td>\n",
       "      <td>0</td>\n",
       "      <td>0</td>\n",
       "      <td>0</td>\n",
       "      <td>1</td>\n",
       "      <td>0</td>\n",
       "      <td>0</td>\n",
       "      <td>0</td>\n",
       "    </tr>\n",
       "    <tr>\n",
       "      <th>8</th>\n",
       "      <td>0.949018</td>\n",
       "      <td>-0.136641</td>\n",
       "      <td>0.180412</td>\n",
       "      <td>-0.104511</td>\n",
       "      <td>0.328889</td>\n",
       "      <td>0.269512</td>\n",
       "      <td>1</td>\n",
       "      <td>0</td>\n",
       "      <td>0</td>\n",
       "      <td>1</td>\n",
       "      <td>0</td>\n",
       "      <td>0</td>\n",
       "      <td>1</td>\n",
       "      <td>0</td>\n",
       "      <td>1</td>\n",
       "      <td>0</td>\n",
       "      <td>0</td>\n",
       "      <td>1</td>\n",
       "    </tr>\n",
       "    <tr>\n",
       "      <th>157</th>\n",
       "      <td>0.401421</td>\n",
       "      <td>-0.422195</td>\n",
       "      <td>1.098306</td>\n",
       "      <td>0.973637</td>\n",
       "      <td>1.362539</td>\n",
       "      <td>-0.898143</td>\n",
       "      <td>1</td>\n",
       "      <td>0</td>\n",
       "      <td>0</td>\n",
       "      <td>1</td>\n",
       "      <td>0</td>\n",
       "      <td>0</td>\n",
       "      <td>1</td>\n",
       "      <td>0</td>\n",
       "      <td>0</td>\n",
       "      <td>0</td>\n",
       "      <td>0</td>\n",
       "      <td>1</td>\n",
       "    </tr>\n",
       "    <tr>\n",
       "      <th>241</th>\n",
       "      <td>-1.460411</td>\n",
       "      <td>-0.365084</td>\n",
       "      <td>1.218032</td>\n",
       "      <td>0.614254</td>\n",
       "      <td>-0.704761</td>\n",
       "      <td>-0.898143</td>\n",
       "      <td>0</td>\n",
       "      <td>1</td>\n",
       "      <td>0</td>\n",
       "      <td>0</td>\n",
       "      <td>0</td>\n",
       "      <td>0</td>\n",
       "      <td>0</td>\n",
       "      <td>0</td>\n",
       "      <td>0</td>\n",
       "      <td>0</td>\n",
       "      <td>0</td>\n",
       "      <td>0</td>\n",
       "    </tr>\n",
       "    <tr>\n",
       "      <th>240</th>\n",
       "      <td>-1.460411</td>\n",
       "      <td>-1.278857</td>\n",
       "      <td>-0.198718</td>\n",
       "      <td>0.165026</td>\n",
       "      <td>-0.704761</td>\n",
       "      <td>-0.898143</td>\n",
       "      <td>1</td>\n",
       "      <td>1</td>\n",
       "      <td>0</td>\n",
       "      <td>0</td>\n",
       "      <td>0</td>\n",
       "      <td>0</td>\n",
       "      <td>0</td>\n",
       "      <td>0</td>\n",
       "      <td>0</td>\n",
       "      <td>0</td>\n",
       "      <td>0</td>\n",
       "      <td>0</td>\n",
       "    </tr>\n",
       "    <tr>\n",
       "      <th>81</th>\n",
       "      <td>-0.146177</td>\n",
       "      <td>-0.136641</td>\n",
       "      <td>0.379955</td>\n",
       "      <td>-0.284202</td>\n",
       "      <td>-0.704761</td>\n",
       "      <td>-0.564527</td>\n",
       "      <td>0</td>\n",
       "      <td>0</td>\n",
       "      <td>0</td>\n",
       "      <td>1</td>\n",
       "      <td>0</td>\n",
       "      <td>0</td>\n",
       "      <td>1</td>\n",
       "      <td>0</td>\n",
       "      <td>1</td>\n",
       "      <td>0</td>\n",
       "      <td>0</td>\n",
       "      <td>0</td>\n",
       "    </tr>\n",
       "    <tr>\n",
       "      <th>214</th>\n",
       "      <td>-0.255696</td>\n",
       "      <td>-1.164636</td>\n",
       "      <td>-0.298489</td>\n",
       "      <td>0.479486</td>\n",
       "      <td>0.328889</td>\n",
       "      <td>-0.898143</td>\n",
       "      <td>1</td>\n",
       "      <td>0</td>\n",
       "      <td>0</td>\n",
       "      <td>1</td>\n",
       "      <td>0</td>\n",
       "      <td>0</td>\n",
       "      <td>0</td>\n",
       "      <td>0</td>\n",
       "      <td>0</td>\n",
       "      <td>0</td>\n",
       "      <td>0</td>\n",
       "      <td>0</td>\n",
       "    </tr>\n",
       "    <tr>\n",
       "      <th>167</th>\n",
       "      <td>-0.036657</td>\n",
       "      <td>-0.022420</td>\n",
       "      <td>0.858856</td>\n",
       "      <td>0.434563</td>\n",
       "      <td>0.328889</td>\n",
       "      <td>-0.898143</td>\n",
       "      <td>0</td>\n",
       "      <td>1</td>\n",
       "      <td>0</td>\n",
       "      <td>0</td>\n",
       "      <td>1</td>\n",
       "      <td>0</td>\n",
       "      <td>1</td>\n",
       "      <td>1</td>\n",
       "      <td>0</td>\n",
       "      <td>0</td>\n",
       "      <td>0</td>\n",
       "      <td>0</td>\n",
       "    </tr>\n",
       "    <tr>\n",
       "      <th>5</th>\n",
       "      <td>0.182382</td>\n",
       "      <td>-0.707749</td>\n",
       "      <td>-0.178763</td>\n",
       "      <td>1.288097</td>\n",
       "      <td>-0.704761</td>\n",
       "      <td>-0.230912</td>\n",
       "      <td>1</td>\n",
       "      <td>1</td>\n",
       "      <td>0</td>\n",
       "      <td>0</td>\n",
       "      <td>0</td>\n",
       "      <td>0</td>\n",
       "      <td>0</td>\n",
       "      <td>0</td>\n",
       "      <td>0</td>\n",
       "      <td>0</td>\n",
       "      <td>0</td>\n",
       "      <td>0</td>\n",
       "    </tr>\n",
       "    <tr>\n",
       "      <th>59</th>\n",
       "      <td>-0.365216</td>\n",
       "      <td>-0.422195</td>\n",
       "      <td>-0.637710</td>\n",
       "      <td>-1.092812</td>\n",
       "      <td>0.328889</td>\n",
       "      <td>0.269512</td>\n",
       "      <td>1</td>\n",
       "      <td>0</td>\n",
       "      <td>0</td>\n",
       "      <td>0</td>\n",
       "      <td>0</td>\n",
       "      <td>0</td>\n",
       "      <td>1</td>\n",
       "      <td>1</td>\n",
       "      <td>0</td>\n",
       "      <td>0</td>\n",
       "      <td>0</td>\n",
       "      <td>0</td>\n",
       "    </tr>\n",
       "    <tr>\n",
       "      <th>92</th>\n",
       "      <td>0.839498</td>\n",
       "      <td>-0.136641</td>\n",
       "      <td>-0.278534</td>\n",
       "      <td>-0.149433</td>\n",
       "      <td>2.396189</td>\n",
       "      <td>0.603128</td>\n",
       "      <td>1</td>\n",
       "      <td>0</td>\n",
       "      <td>1</td>\n",
       "      <td>0</td>\n",
       "      <td>0</td>\n",
       "      <td>0</td>\n",
       "      <td>0</td>\n",
       "      <td>0</td>\n",
       "      <td>1</td>\n",
       "      <td>0</td>\n",
       "      <td>0</td>\n",
       "      <td>1</td>\n",
       "    </tr>\n",
       "    <tr>\n",
       "      <th>274</th>\n",
       "      <td>0.510940</td>\n",
       "      <td>0.091802</td>\n",
       "      <td>-0.817298</td>\n",
       "      <td>0.569332</td>\n",
       "      <td>1.362539</td>\n",
       "      <td>-0.230912</td>\n",
       "      <td>1</td>\n",
       "      <td>0</td>\n",
       "      <td>0</td>\n",
       "      <td>0</td>\n",
       "      <td>0</td>\n",
       "      <td>0</td>\n",
       "      <td>0</td>\n",
       "      <td>0</td>\n",
       "      <td>0</td>\n",
       "      <td>0</td>\n",
       "      <td>0</td>\n",
       "      <td>0</td>\n",
       "    </tr>\n",
       "    <tr>\n",
       "      <th>34</th>\n",
       "      <td>-1.131852</td>\n",
       "      <td>-0.136641</td>\n",
       "      <td>-0.238626</td>\n",
       "      <td>1.333019</td>\n",
       "      <td>-0.704761</td>\n",
       "      <td>-0.564527</td>\n",
       "      <td>1</td>\n",
       "      <td>0</td>\n",
       "      <td>1</td>\n",
       "      <td>0</td>\n",
       "      <td>0</td>\n",
       "      <td>0</td>\n",
       "      <td>0</td>\n",
       "      <td>1</td>\n",
       "      <td>0</td>\n",
       "      <td>0</td>\n",
       "      <td>0</td>\n",
       "      <td>0</td>\n",
       "    </tr>\n",
       "    <tr>\n",
       "      <th>145</th>\n",
       "      <td>-0.803294</td>\n",
       "      <td>-1.393079</td>\n",
       "      <td>-0.039084</td>\n",
       "      <td>0.120104</td>\n",
       "      <td>-0.704761</td>\n",
       "      <td>-0.898143</td>\n",
       "      <td>1</td>\n",
       "      <td>0</td>\n",
       "      <td>1</td>\n",
       "      <td>0</td>\n",
       "      <td>0</td>\n",
       "      <td>0</td>\n",
       "      <td>0</td>\n",
       "      <td>0</td>\n",
       "      <td>0</td>\n",
       "      <td>0</td>\n",
       "      <td>0</td>\n",
       "      <td>0</td>\n",
       "    </tr>\n",
       "    <tr>\n",
       "      <th>116</th>\n",
       "      <td>0.401421</td>\n",
       "      <td>0.434467</td>\n",
       "      <td>-0.677619</td>\n",
       "      <td>0.704100</td>\n",
       "      <td>-0.704761</td>\n",
       "      <td>-0.898143</td>\n",
       "      <td>1</td>\n",
       "      <td>0</td>\n",
       "      <td>1</td>\n",
       "      <td>0</td>\n",
       "      <td>1</td>\n",
       "      <td>0</td>\n",
       "      <td>1</td>\n",
       "      <td>0</td>\n",
       "      <td>0</td>\n",
       "      <td>0</td>\n",
       "      <td>0</td>\n",
       "      <td>0</td>\n",
       "    </tr>\n",
       "    <tr>\n",
       "      <th>188</th>\n",
       "      <td>-0.036657</td>\n",
       "      <td>3.404229</td>\n",
       "      <td>0.759085</td>\n",
       "      <td>2.051784</td>\n",
       "      <td>0.328889</td>\n",
       "      <td>-0.898143</td>\n",
       "      <td>1</td>\n",
       "      <td>1</td>\n",
       "      <td>0</td>\n",
       "      <td>0</td>\n",
       "      <td>0</td>\n",
       "      <td>0</td>\n",
       "      <td>1</td>\n",
       "      <td>0</td>\n",
       "      <td>0</td>\n",
       "      <td>0</td>\n",
       "      <td>0</td>\n",
       "      <td>1</td>\n",
       "    </tr>\n",
       "    <tr>\n",
       "      <th>246</th>\n",
       "      <td>0.401421</td>\n",
       "      <td>-1.849965</td>\n",
       "      <td>-0.218672</td>\n",
       "      <td>0.299795</td>\n",
       "      <td>0.328889</td>\n",
       "      <td>-0.814739</td>\n",
       "      <td>1</td>\n",
       "      <td>0</td>\n",
       "      <td>0</td>\n",
       "      <td>1</td>\n",
       "      <td>0</td>\n",
       "      <td>0</td>\n",
       "      <td>0</td>\n",
       "      <td>0</td>\n",
       "      <td>0</td>\n",
       "      <td>0</td>\n",
       "      <td>0</td>\n",
       "      <td>1</td>\n",
       "    </tr>\n",
       "    <tr>\n",
       "      <th>7</th>\n",
       "      <td>0.291901</td>\n",
       "      <td>-0.707749</td>\n",
       "      <td>2.175834</td>\n",
       "      <td>0.614254</td>\n",
       "      <td>-0.704761</td>\n",
       "      <td>-0.397720</td>\n",
       "      <td>0</td>\n",
       "      <td>0</td>\n",
       "      <td>0</td>\n",
       "      <td>1</td>\n",
       "      <td>0</td>\n",
       "      <td>0</td>\n",
       "      <td>0</td>\n",
       "      <td>1</td>\n",
       "      <td>0</td>\n",
       "      <td>0</td>\n",
       "      <td>0</td>\n",
       "      <td>0</td>\n",
       "    </tr>\n",
       "    <tr>\n",
       "      <th>45</th>\n",
       "      <td>0.401421</td>\n",
       "      <td>-1.164636</td>\n",
       "      <td>-0.298489</td>\n",
       "      <td>0.704100</td>\n",
       "      <td>0.328889</td>\n",
       "      <td>1.186955</td>\n",
       "      <td>1</td>\n",
       "      <td>0</td>\n",
       "      <td>1</td>\n",
       "      <td>0</td>\n",
       "      <td>0</td>\n",
       "      <td>0</td>\n",
       "      <td>1</td>\n",
       "      <td>0</td>\n",
       "      <td>1</td>\n",
       "      <td>0</td>\n",
       "      <td>0</td>\n",
       "      <td>1</td>\n",
       "    </tr>\n",
       "    <tr>\n",
       "      <th>129</th>\n",
       "      <td>0.839498</td>\n",
       "      <td>-0.479306</td>\n",
       "      <td>-0.717527</td>\n",
       "      <td>0.614254</td>\n",
       "      <td>-0.704761</td>\n",
       "      <td>-0.898143</td>\n",
       "      <td>0</td>\n",
       "      <td>0</td>\n",
       "      <td>0</td>\n",
       "      <td>1</td>\n",
       "      <td>0</td>\n",
       "      <td>0</td>\n",
       "      <td>0</td>\n",
       "      <td>0</td>\n",
       "      <td>0</td>\n",
       "      <td>0</td>\n",
       "      <td>0</td>\n",
       "      <td>0</td>\n",
       "    </tr>\n",
       "    <tr>\n",
       "      <th>122</th>\n",
       "      <td>-0.365216</td>\n",
       "      <td>-1.849965</td>\n",
       "      <td>-0.458122</td>\n",
       "      <td>-0.284202</td>\n",
       "      <td>-0.704761</td>\n",
       "      <td>0.102704</td>\n",
       "      <td>1</td>\n",
       "      <td>0</td>\n",
       "      <td>1</td>\n",
       "      <td>0</td>\n",
       "      <td>0</td>\n",
       "      <td>0</td>\n",
       "      <td>0</td>\n",
       "      <td>1</td>\n",
       "      <td>1</td>\n",
       "      <td>0</td>\n",
       "      <td>0</td>\n",
       "      <td>0</td>\n",
       "    </tr>\n",
       "    <tr>\n",
       "      <th>63</th>\n",
       "      <td>-0.036657</td>\n",
       "      <td>0.148913</td>\n",
       "      <td>1.178123</td>\n",
       "      <td>0.928714</td>\n",
       "      <td>-0.704761</td>\n",
       "      <td>-0.898143</td>\n",
       "      <td>0</td>\n",
       "      <td>0</td>\n",
       "      <td>1</td>\n",
       "      <td>0</td>\n",
       "      <td>1</td>\n",
       "      <td>0</td>\n",
       "      <td>0</td>\n",
       "      <td>0</td>\n",
       "      <td>0</td>\n",
       "      <td>0</td>\n",
       "      <td>0</td>\n",
       "      <td>0</td>\n",
       "    </tr>\n",
       "    <tr>\n",
       "      <th>124</th>\n",
       "      <td>1.168057</td>\n",
       "      <td>0.320245</td>\n",
       "      <td>0.739130</td>\n",
       "      <td>1.108405</td>\n",
       "      <td>0.328889</td>\n",
       "      <td>0.269512</td>\n",
       "      <td>1</td>\n",
       "      <td>0</td>\n",
       "      <td>0</td>\n",
       "      <td>0</td>\n",
       "      <td>1</td>\n",
       "      <td>0</td>\n",
       "      <td>1</td>\n",
       "      <td>0</td>\n",
       "      <td>1</td>\n",
       "      <td>0</td>\n",
       "      <td>0</td>\n",
       "      <td>0</td>\n",
       "    </tr>\n",
       "    <tr>\n",
       "      <th>227</th>\n",
       "      <td>1.387096</td>\n",
       "      <td>1.119797</td>\n",
       "      <td>0.639359</td>\n",
       "      <td>1.018560</td>\n",
       "      <td>0.328889</td>\n",
       "      <td>-0.898143</td>\n",
       "      <td>0</td>\n",
       "      <td>0</td>\n",
       "      <td>1</td>\n",
       "      <td>0</td>\n",
       "      <td>0</td>\n",
       "      <td>0</td>\n",
       "      <td>0</td>\n",
       "      <td>0</td>\n",
       "      <td>0</td>\n",
       "      <td>0</td>\n",
       "      <td>0</td>\n",
       "      <td>0</td>\n",
       "    </tr>\n",
       "    <tr>\n",
       "      <th>146</th>\n",
       "      <td>0.291901</td>\n",
       "      <td>1.862237</td>\n",
       "      <td>0.878810</td>\n",
       "      <td>-1.137735</td>\n",
       "      <td>2.396189</td>\n",
       "      <td>-0.064104</td>\n",
       "      <td>1</td>\n",
       "      <td>0</td>\n",
       "      <td>0</td>\n",
       "      <td>1</td>\n",
       "      <td>1</td>\n",
       "      <td>0</td>\n",
       "      <td>1</td>\n",
       "      <td>0</td>\n",
       "      <td>1</td>\n",
       "      <td>0</td>\n",
       "      <td>0</td>\n",
       "      <td>1</td>\n",
       "    </tr>\n",
       "    <tr>\n",
       "      <th>302</th>\n",
       "      <td>-1.788969</td>\n",
       "      <td>0.320245</td>\n",
       "      <td>-1.395970</td>\n",
       "      <td>1.063483</td>\n",
       "      <td>-0.704761</td>\n",
       "      <td>-0.898143</td>\n",
       "      <td>1</td>\n",
       "      <td>0</td>\n",
       "      <td>1</td>\n",
       "      <td>0</td>\n",
       "      <td>0</td>\n",
       "      <td>0</td>\n",
       "      <td>0</td>\n",
       "      <td>0</td>\n",
       "      <td>0</td>\n",
       "      <td>0</td>\n",
       "      <td>0</td>\n",
       "      <td>0</td>\n",
       "    </tr>\n",
       "    <tr>\n",
       "      <th>26</th>\n",
       "      <td>0.401421</td>\n",
       "      <td>-0.707749</td>\n",
       "      <td>1.896475</td>\n",
       "      <td>1.018560</td>\n",
       "      <td>-0.704761</td>\n",
       "      <td>-0.898143</td>\n",
       "      <td>0</td>\n",
       "      <td>0</td>\n",
       "      <td>1</td>\n",
       "      <td>0</td>\n",
       "      <td>0</td>\n",
       "      <td>0</td>\n",
       "      <td>0</td>\n",
       "      <td>0</td>\n",
       "      <td>0</td>\n",
       "      <td>0</td>\n",
       "      <td>0</td>\n",
       "      <td>0</td>\n",
       "    </tr>\n",
       "    <tr>\n",
       "      <th>108</th>\n",
       "      <td>0.729979</td>\n",
       "      <td>-0.707749</td>\n",
       "      <td>0.300138</td>\n",
       "      <td>-0.418970</td>\n",
       "      <td>0.328889</td>\n",
       "      <td>2.104398</td>\n",
       "      <td>1</td>\n",
       "      <td>0</td>\n",
       "      <td>0</td>\n",
       "      <td>1</td>\n",
       "      <td>0</td>\n",
       "      <td>0</td>\n",
       "      <td>0</td>\n",
       "      <td>1</td>\n",
       "      <td>1</td>\n",
       "      <td>0</td>\n",
       "      <td>0</td>\n",
       "      <td>1</td>\n",
       "    </tr>\n",
       "    <tr>\n",
       "      <th>89</th>\n",
       "      <td>-0.365216</td>\n",
       "      <td>-0.136641</td>\n",
       "      <td>0.220321</td>\n",
       "      <td>-0.014665</td>\n",
       "      <td>-0.704761</td>\n",
       "      <td>-0.481123</td>\n",
       "      <td>0</td>\n",
       "      <td>0</td>\n",
       "      <td>1</td>\n",
       "      <td>0</td>\n",
       "      <td>0</td>\n",
       "      <td>0</td>\n",
       "      <td>1</td>\n",
       "      <td>0</td>\n",
       "      <td>0</td>\n",
       "      <td>0</td>\n",
       "      <td>0</td>\n",
       "      <td>0</td>\n",
       "    </tr>\n",
       "  </tbody>\n",
       "</table>\n",
       "</div>"
      ],
      "text/plain": [
       "          age  trestbps      chol   thalach        ca   oldpeak  sex_1  cp_2  \\\n",
       "225 -2.227047 -0.821971 -0.697573  1.917016 -0.704761 -0.314316      0     1   \n",
       "152  1.387096 -0.993303  6.366219  0.479486 -0.704761  0.436320      0     0   \n",
       "228 -0.036657 -1.278857 -0.777390 -1.856500  0.328889 -0.898143      1     0   \n",
       "201  1.058537  2.718899  1.597162  0.209949 -0.704761 -0.898143      0     0   \n",
       "52  -1.131852 -1.164636  0.898764  0.165026  0.328889 -0.898143      1     0   \n",
       "245  1.387096 -0.707749 -0.158809 -3.518644 -0.704761 -0.064104      1     0   \n",
       "175  0.291901  1.119797  0.579497 -2.754956  0.328889  0.102704      1     0   \n",
       "168 -2.117527 -0.365084  0.739130  0.299795 -0.704761 -0.898143      1     0   \n",
       "223 -0.146177 -0.536417  0.739130 -2.440497  1.362539  0.769935      1     0   \n",
       "217 -0.912813  0.320245 -0.039084  0.120104 -0.704761 -0.898143      0     0   \n",
       "111  0.182382 -0.422195  0.080641 -0.239279  0.328889  0.102704      1     0   \n",
       "135  0.072862  0.148913  0.100596  0.524409 -0.704761  0.269512      0     1   \n",
       "218  1.058537 -0.136641  1.158169 -1.227581  1.362539  0.769935      0     0   \n",
       "12   0.182382 -0.136641  0.220321 -0.329125  0.328889 -0.397720      1     0   \n",
       "15   0.291901  1.005575 -1.535650  1.108405 -0.704761  0.436320      1     0   \n",
       "66   0.620459  0.434467 -1.196428  0.254872 -0.704761  1.603975      1     0   \n",
       "97   0.620459  1.005575  0.260229  0.344718  1.362539  1.270359      0     0   \n",
       "90   1.277576 -0.707749  1.138215  0.075181 -0.704761 -0.564527      1     0   \n",
       "198 -0.474735 -0.707749 -0.019130  0.569332 -0.704761  0.019300      0     1   \n",
       "103  1.825174 -1.278857  0.399909 -0.868198  0.328889 -0.898143      0     0   \n",
       "22   0.401421 -0.707749  0.779039  0.479486 -0.704761  0.603128      1     1   \n",
       "212 -1.460411 -0.136641 -0.617756  0.838869 -0.704761  0.769935      1     0   \n",
       "226 -0.803294 -1.164636 -0.817298 -0.284202 -0.704761 -0.814739      1     0   \n",
       "264  0.729979  0.320245 -1.575558 -1.092812  0.328889  2.104398      1     0   \n",
       "133 -0.365216  0.434467  0.320092  1.647479 -0.704761 -0.898143      1     0   \n",
       "216 -0.912813 -1.564411 -0.817298  1.018560 -0.704761 -0.898143      0     1   \n",
       "275  1.058537  2.147791 -0.358351  0.254872 -0.704761 -0.397720      1     0   \n",
       "270  0.729979  0.434467 -0.757436 -0.508816  0.328889  0.686531      1     0   \n",
       "154  1.058537 -0.707749  0.020779 -2.395574  0.328889  0.936743      1     0   \n",
       "55  -0.036657 -0.479306  0.419863 -1.811577  0.328889  0.936743      1     0   \n",
       "194  1.496615 -0.707749 -0.677619 -1.542040 -0.704761  0.352916      0     0   \n",
       "255 -1.350891 -0.707749 -0.717527  1.063483 -0.704761 -0.898143      0     0   \n",
       "134 -1.241372 -0.593528 -0.637710  0.704100 -0.704761 -0.731335      0     0   \n",
       "8    0.949018 -0.136641  0.180412 -0.104511  0.328889  0.269512      1     0   \n",
       "157  0.401421 -0.422195  1.098306  0.973637  1.362539 -0.898143      1     0   \n",
       "241 -1.460411 -0.365084  1.218032  0.614254 -0.704761 -0.898143      0     1   \n",
       "240 -1.460411 -1.278857 -0.198718  0.165026 -0.704761 -0.898143      1     1   \n",
       "81  -0.146177 -0.136641  0.379955 -0.284202 -0.704761 -0.564527      0     0   \n",
       "214 -0.255696 -1.164636 -0.298489  0.479486  0.328889 -0.898143      1     0   \n",
       "167 -0.036657 -0.022420  0.858856  0.434563  0.328889 -0.898143      0     1   \n",
       "5    0.182382 -0.707749 -0.178763  1.288097 -0.704761 -0.230912      1     1   \n",
       "59  -0.365216 -0.422195 -0.637710 -1.092812  0.328889  0.269512      1     0   \n",
       "92   0.839498 -0.136641 -0.278534 -0.149433  2.396189  0.603128      1     0   \n",
       "274  0.510940  0.091802 -0.817298  0.569332  1.362539 -0.230912      1     0   \n",
       "34  -1.131852 -0.136641 -0.238626  1.333019 -0.704761 -0.564527      1     0   \n",
       "145 -0.803294 -1.393079 -0.039084  0.120104 -0.704761 -0.898143      1     0   \n",
       "116  0.401421  0.434467 -0.677619  0.704100 -0.704761 -0.898143      1     0   \n",
       "188 -0.036657  3.404229  0.759085  2.051784  0.328889 -0.898143      1     1   \n",
       "246  0.401421 -1.849965 -0.218672  0.299795  0.328889 -0.814739      1     0   \n",
       "7    0.291901 -0.707749  2.175834  0.614254 -0.704761 -0.397720      0     0   \n",
       "45   0.401421 -1.164636 -0.298489  0.704100  0.328889  1.186955      1     0   \n",
       "129  0.839498 -0.479306 -0.717527  0.614254 -0.704761 -0.898143      0     0   \n",
       "122 -0.365216 -1.849965 -0.458122 -0.284202 -0.704761  0.102704      1     0   \n",
       "63  -0.036657  0.148913  1.178123  0.928714 -0.704761 -0.898143      0     0   \n",
       "124  1.168057  0.320245  0.739130  1.108405  0.328889  0.269512      1     0   \n",
       "227  1.387096  1.119797  0.639359  1.018560  0.328889 -0.898143      0     0   \n",
       "146  0.291901  1.862237  0.878810 -1.137735  2.396189 -0.064104      1     0   \n",
       "302 -1.788969  0.320245 -1.395970  1.063483 -0.704761 -0.898143      1     0   \n",
       "26   0.401421 -0.707749  1.896475  1.018560 -0.704761 -0.898143      0     0   \n",
       "108  0.729979 -0.707749  0.300138 -0.418970  0.328889  2.104398      1     0   \n",
       "89  -0.365216 -0.136641  0.220321 -0.014665 -0.704761 -0.481123      0     0   \n",
       "\n",
       "     cp_3  cp_4  fbs_1  restecg_1  restecg_2  exang_1  slope_2  slope_3  \\\n",
       "225     0     0      0          0          0        0        0        0   \n",
       "152     1     0      0          0          1        0        1        0   \n",
       "228     0     1      0          0          1        1        1        0   \n",
       "201     0     1      0          0          0        1        0        0   \n",
       "52      0     1      0          0          1        0        0        0   \n",
       "245     0     1      0          0          0        0        1        0   \n",
       "175     0     1      0          0          0        1        1        0   \n",
       "168     0     1      0          0          1        1        0        0   \n",
       "223     0     1      0          0          0        1        1        0   \n",
       "217     0     1      0          0          1        1        1        0   \n",
       "111     0     1      1          0          1        1        1        0   \n",
       "135     0     0      0          0          1        0        1        0   \n",
       "218     0     1      0          0          0        0        1        0   \n",
       "12      1     0      1          0          1        1        1        0   \n",
       "15      1     0      0          0          0        0        0        0   \n",
       "66      1     0      0          0          1        0        1        0   \n",
       "97      0     1      0          0          1        0        1        0   \n",
       "90      0     1      0          0          1        0        1        0   \n",
       "198     0     0      0          0          0        0        0        0   \n",
       "103     1     0      1          0          1        0        0        0   \n",
       "22      0     0      0          0          1        0        1        0   \n",
       "212     1     0      0          0          1        0        1        0   \n",
       "226     0     1      0          0          0        0        0        0   \n",
       "264     0     1      0          0          1        1        1        0   \n",
       "133     0     1      0          0          1        1        0        0   \n",
       "216     0     0      0          0          0        0        0        0   \n",
       "275     0     0      0          0          1        0        1        0   \n",
       "270     0     1      0          0          1        1        0        0   \n",
       "154     0     1      0          0          1        1        0        1   \n",
       "55      0     1      0          0          1        1        1        0   \n",
       "194     1     0      0          0          1        0        1        0   \n",
       "255     1     0      0          0          0        0        1        0   \n",
       "134     1     0      0          0          0        0        1        0   \n",
       "8       0     1      0          0          1        0        1        0   \n",
       "157     0     1      0          0          1        0        0        0   \n",
       "241     0     0      0          0          0        0        0        0   \n",
       "240     0     0      0          0          0        0        0        0   \n",
       "81      0     1      0          0          1        0        1        0   \n",
       "214     0     1      0          0          0        0        0        0   \n",
       "167     0     0      1          0          1        1        0        0   \n",
       "5       0     0      0          0          0        0        0        0   \n",
       "59      0     0      0          0          1        1        0        0   \n",
       "92      1     0      0          0          0        0        1        0   \n",
       "274     0     0      0          0          0        0        0        0   \n",
       "34      1     0      0          0          0        1        0        0   \n",
       "145     1     0      0          0          0        0        0        0   \n",
       "116     1     0      1          0          1        0        0        0   \n",
       "188     0     0      0          0          1        0        0        0   \n",
       "246     0     1      0          0          0        0        0        0   \n",
       "7       0     1      0          0          0        1        0        0   \n",
       "45      1     0      0          0          1        0        1        0   \n",
       "129     0     1      0          0          0        0        0        0   \n",
       "122     1     0      0          0          0        1        1        0   \n",
       "63      1     0      1          0          0        0        0        0   \n",
       "124     0     0      1          0          1        0        1        0   \n",
       "227     1     0      0          0          0        0        0        0   \n",
       "146     0     1      1          0          1        0        1        0   \n",
       "302     1     0      0          0          0        0        0        0   \n",
       "26      1     0      0          0          0        0        0        0   \n",
       "108     0     1      0          0          0        1        1        0   \n",
       "89      1     0      0          0          1        0        0        0   \n",
       "\n",
       "     thal_6.0  thal_7.0  \n",
       "225         0         0  \n",
       "152         0         1  \n",
       "228         0         0  \n",
       "201         0         0  \n",
       "52          0         0  \n",
       "245         0         0  \n",
       "175         0         1  \n",
       "168         0         1  \n",
       "223         0         1  \n",
       "217         0         0  \n",
       "111         0         0  \n",
       "135         0         0  \n",
       "218         0         0  \n",
       "12          1         0  \n",
       "15          0         0  \n",
       "66          0         0  \n",
       "97          0         1  \n",
       "90          0         0  \n",
       "198         0         0  \n",
       "103         0         0  \n",
       "22          0         0  \n",
       "212         0         0  \n",
       "226         0         0  \n",
       "264         0         0  \n",
       "133         0         0  \n",
       "216         0         0  \n",
       "275         0         1  \n",
       "270         0         1  \n",
       "154         0         0  \n",
       "55          0         1  \n",
       "194         0         0  \n",
       "255         0         0  \n",
       "134         0         0  \n",
       "8           0         1  \n",
       "157         0         1  \n",
       "241         0         0  \n",
       "240         0         0  \n",
       "81          0         0  \n",
       "214         0         0  \n",
       "167         0         0  \n",
       "5           0         0  \n",
       "59          0         0  \n",
       "92          0         1  \n",
       "274         0         0  \n",
       "34          0         0  \n",
       "145         0         0  \n",
       "116         0         0  \n",
       "188         0         1  \n",
       "246         0         1  \n",
       "7           0         0  \n",
       "45          0         1  \n",
       "129         0         0  \n",
       "122         0         0  \n",
       "63          0         0  \n",
       "124         0         0  \n",
       "227         0         0  \n",
       "146         0         1  \n",
       "302         0         0  \n",
       "26          0         0  \n",
       "108         0         1  \n",
       "89          0         0  "
      ]
     },
     "execution_count": 1051,
     "metadata": {},
     "output_type": "execute_result"
    }
   ],
   "source": [
    "X_test"
   ]
  },
  {
   "cell_type": "markdown",
   "id": "3f983151",
   "metadata": {},
   "source": [
    "### Premier modèle"
   ]
  },
  {
   "cell_type": "code",
   "execution_count": 1052,
   "id": "30ab1a1f",
   "metadata": {},
   "outputs": [],
   "source": [
    "from sklearn.tree import DecisionTreeClassifier\n",
    "from sklearn.ensemble import RandomForestClassifier\n",
    "from sklearn.metrics import classification_report\n",
    "from sklearn.model_selection import learning_curve\n",
    "from sklearn.metrics import confusion_matrix"
   ]
  },
  {
   "cell_type": "code",
   "execution_count": 1053,
   "id": "32fd1696",
   "metadata": {},
   "outputs": [],
   "source": [
    "def evaluation(model, x_train, y_train):    \n",
    "    N, train_scores, test_scores = learning_curve(clf, x_train, y_train, \n",
    "                                                  train_sizes=np.linspace(0.1,1,10), cv=5, scoring='f1')\n",
    "    plt.figure(figsize=(12,8))\n",
    "    plt.plot(N, train_scores.mean(axis=1), label='Train score')\n",
    "    plt.plot(N,test_scores.mean(axis=1), label='Validation score')\n",
    "    plt.xlabel('N')\n",
    "    plt.ylabel('f1')\n",
    "    plt.grid()\n",
    "    plt.legend()\n",
    "    plt.show()"
   ]
  },
  {
   "cell_type": "code",
   "execution_count": 1054,
   "id": "25d15ec6",
   "metadata": {},
   "outputs": [
    {
     "data": {
      "image/png": "[encoded data removed]",
      "text/plain": [
       "<Figure size 864x576 with 1 Axes>"
      ]
     },
     "metadata": {
      "needs_background": "light"
     },
     "output_type": "display_data"
    }
   ],
   "source": [
    "model = DecisionTreeClassifier()\n",
    "evaluation(model, X_train, Y_train)"
   ]
  },
  {
   "cell_type": "code",
   "execution_count": 1055,
   "id": "828797b9",
   "metadata": {},
   "outputs": [
    {
     "name": "stdout",
     "output_type": "stream",
     "text": [
      "              precision    recall  f1-score   support\n",
      "\n",
      "           0       0.76      0.83      0.79        35\n",
      "           1       0.74      0.65      0.69        26\n",
      "\n",
      "    accuracy                           0.75        61\n",
      "   macro avg       0.75      0.74      0.74        61\n",
      "weighted avg       0.75      0.75      0.75        61\n",
      "\n"
     ]
    }
   ],
   "source": [
    "model.fit(X_train, Y_train)\n",
    "preds = model.predict(X_test)\n",
    "print(classification_report(Y_test, preds))"
   ]
  },
  {
   "cell_type": "code",
   "execution_count": 1056,
   "id": "67bde7b7",
   "metadata": {},
   "outputs": [
    {
     "data": {
      "image/png": "[encoded data removed]",
      "text/plain": [
       "<Figure size 1152x432 with 1 Axes>"
      ]
     },
     "metadata": {
      "needs_background": "light"
     },
     "output_type": "display_data"
    }
   ],
   "source": [
    "importances = model.feature_importances_\n",
    "feature_importance = pd.Series(importances, index=X_train.columns).sort_values(ascending=False)\n",
    "plt.figure(figsize=(16,6))\n",
    "plt.bar(feature_importance.index, feature_importance.values)\n",
    "plt.grid()\n",
    "plt.show()"
   ]
  },
  {
   "cell_type": "markdown",
   "id": "deb63a9c",
   "metadata": {},
   "source": [
    "# 3. Modélisation"
   ]
  },
  {
   "cell_type": "markdown",
   "id": "e9de812e",
   "metadata": {},
   "source": [
    "## Entrainement de modèles"
   ]
  },
  {
   "cell_type": "markdown",
   "id": "c314b7c3",
   "metadata": {},
   "source": [
    "### Régression logistique"
   ]
  },
  {
   "cell_type": "code",
   "execution_count": 1057,
   "id": "dd169e1a",
   "metadata": {},
   "outputs": [],
   "source": [
    "from sklearn.linear_model import LogisticRegression"
   ]
  },
  {
   "cell_type": "code",
   "execution_count": 1058,
   "id": "4ed5f01b",
   "metadata": {},
   "outputs": [],
   "source": [
    "model = LogisticRegression(solver='liblinear')"
   ]
  },
  {
   "cell_type": "code",
   "execution_count": 1059,
   "id": "61e5f088",
   "metadata": {},
   "outputs": [
    {
     "data": {
      "image/png": "[encoded data removed]",
      "text/plain": [
       "<Figure size 864x576 with 1 Axes>"
      ]
     },
     "metadata": {
      "needs_background": "light"
     },
     "output_type": "display_data"
    }
   ],
   "source": [
    "evaluation(model, X_train, Y_train)"
   ]
  },
  {
   "cell_type": "code",
   "execution_count": 1060,
   "id": "9b484964",
   "metadata": {},
   "outputs": [
    {
     "name": "stdout",
     "output_type": "stream",
     "text": [
      "              precision    recall  f1-score   support\n",
      "\n",
      "           0       0.76      0.80      0.78        35\n",
      "           1       0.71      0.65      0.68        26\n",
      "\n",
      "    accuracy                           0.74        61\n",
      "   macro avg       0.73      0.73      0.73        61\n",
      "weighted avg       0.74      0.74      0.74        61\n",
      "\n"
     ]
    }
   ],
   "source": [
    "model.fit(X_train, Y_train)\n",
    "preds = model.predict(X_test)\n",
    "print(classification_report(Y_test, preds))"
   ]
  },
  {
   "cell_type": "markdown",
   "id": "942912aa",
   "metadata": {},
   "source": [
    "#### Optimisation"
   ]
  },
  {
   "cell_type": "code",
   "execution_count": 1061,
   "id": "d70811de",
   "metadata": {},
   "outputs": [],
   "source": [
    "from sklearn.model_selection import GridSearchCV\n",
    "from sklearn.model_selection import KFold"
   ]
  },
  {
   "cell_type": "code",
   "execution_count": 1062,
   "id": "1473394c",
   "metadata": {},
   "outputs": [],
   "source": [
    "kf = KFold(n_splits=5, shuffle=True, random_state = 0)"
   ]
  },
  {
   "cell_type": "code",
   "execution_count": 1063,
   "id": "1bd9eca2",
   "metadata": {},
   "outputs": [
    {
     "name": "stdout",
     "output_type": "stream",
     "text": [
      "{'C': 0.8, 'penalty': 'l2'}\n"
     ]
    }
   ],
   "source": [
    "model = LogisticRegression(solver='liblinear')\n",
    "parameters = {'C' : [0.5,0.6,0.7,0.8,0.9,1,1.1,1.2,1.3,1.4,1.5,2,5,10],\n",
    "          'penalty' : ['l1', 'l2']}\n",
    "GSCV = GridSearchCV(model, parameters, cv=kf)\n",
    "GSCV.fit(X_train, Y_train)\n",
    "print(GSCV.best_params_)"
   ]
  },
  {
   "cell_type": "code",
   "execution_count": 1064,
   "id": "4e82a887",
   "metadata": {},
   "outputs": [
    {
     "data": {
      "image/png": "[encoded data removed]",
      "text/plain": [
       "<Figure size 864x576 with 1 Axes>"
      ]
     },
     "metadata": {
      "needs_background": "light"
     },
     "output_type": "display_data"
    }
   ],
   "source": [
    "model_lr = GSCV.best_estimator_\n",
    "evaluation(model_lr, X_train, Y_train)"
   ]
  },
  {
   "cell_type": "code",
   "execution_count": 1065,
   "id": "1b33d462",
   "metadata": {},
   "outputs": [
    {
     "name": "stdout",
     "output_type": "stream",
     "text": [
      "              precision    recall  f1-score   support\n",
      "\n",
      "           0       0.76      0.80      0.78        35\n",
      "           1       0.71      0.65      0.68        26\n",
      "\n",
      "    accuracy                           0.74        61\n",
      "   macro avg       0.73      0.73      0.73        61\n",
      "weighted avg       0.74      0.74      0.74        61\n",
      "\n"
     ]
    }
   ],
   "source": [
    "model_lr.fit(X_train, Y_train)\n",
    "preds = model_lr.predict(X_test)\n",
    "print(classification_report(Y_test, preds))"
   ]
  },
  {
   "cell_type": "markdown",
   "id": "ad8d2a3b",
   "metadata": {},
   "source": [
    "#### Odds ratios"
   ]
  },
  {
   "cell_type": "code",
   "execution_count": 1066,
   "id": "5ee4f396",
   "metadata": {},
   "outputs": [
    {
     "data": {
      "image/png": "[encoded data removed]",
      "text/plain": [
       "<Figure size 1152x432 with 1 Axes>"
      ]
     },
     "metadata": {
      "needs_background": "light"
     },
     "output_type": "display_data"
    }
   ],
   "source": [
    "odds_ratios = np.exp(model_lr.coef_[0])\n",
    "plt.figure(figsize=(16, 6))\n",
    "sns.barplot(x=X_test.columns, y=odds_ratios)\n",
    "plt.xlabel('Variables')\n",
    "plt.ylabel('Odds Ratios')\n",
    "plt.title('Odds Ratio des coefficients du modèle de Régression Logistique')\n",
    "plt.axhline(1, color='red', linestyle='--')\n",
    "plt.show()"
   ]
  },
  {
   "cell_type": "markdown",
   "id": "7ed7cb96",
   "metadata": {},
   "source": [
    "Les variables 'cp_2', 'restecg_1', 'slope_3' et 'thal_6.0' n'influent pas sur la prise de décision (surtout restecg_1)"
   ]
  },
  {
   "cell_type": "markdown",
   "id": "7be237d9",
   "metadata": {},
   "source": [
    "## Post-processing"
   ]
  },
  {
   "cell_type": "code",
   "execution_count": 1067,
   "id": "abe8d943",
   "metadata": {},
   "outputs": [],
   "source": [
    "def postprocessing(df_train, df_test):\n",
    "    df_train = df_train.drop(['restecg_1'], axis=1)\n",
    "    df_test = df_test.drop(['restecg_1'], axis=1)\n",
    "    return(df_train, df_test)"
   ]
  },
  {
   "cell_type": "code",
   "execution_count": 1068,
   "id": "c5adb62e",
   "metadata": {},
   "outputs": [],
   "source": [
    "X_train, X_test = postprocessing(X_train, X_test)"
   ]
  },
  {
   "cell_type": "markdown",
   "id": "19b2891a",
   "metadata": {},
   "source": [
    "### Forêts aléatoires"
   ]
  },
  {
   "cell_type": "code",
   "execution_count": 1069,
   "id": "f76af934",
   "metadata": {},
   "outputs": [
    {
     "data": {
      "image/png": "[encoded data removed]",
      "text/plain": [
       "<Figure size 864x576 with 1 Axes>"
      ]
     },
     "metadata": {
      "needs_background": "light"
     },
     "output_type": "display_data"
    }
   ],
   "source": [
    "model = RandomForestClassifier(n_estimators=50, random_state=0)\n",
    "evaluation(model, X_train, Y_train)"
   ]
  },
  {
   "cell_type": "code",
   "execution_count": 1070,
   "id": "e76a77ab",
   "metadata": {},
   "outputs": [
    {
     "name": "stdout",
     "output_type": "stream",
     "text": [
      "              precision    recall  f1-score   support\n",
      "\n",
      "           0       0.74      0.89      0.81        35\n",
      "           1       0.79      0.58      0.67        26\n",
      "\n",
      "    accuracy                           0.75        61\n",
      "   macro avg       0.76      0.73      0.74        61\n",
      "weighted avg       0.76      0.75      0.75        61\n",
      "\n"
     ]
    }
   ],
   "source": [
    "model.fit(X_train, Y_train)\n",
    "preds = model.predict(X_test)\n",
    "print(classification_report(Y_test, preds))"
   ]
  },
  {
   "cell_type": "code",
   "execution_count": 1071,
   "id": "c03c4d11",
   "metadata": {},
   "outputs": [
    {
     "data": {
      "image/png": "[encoded data removed]",
      "text/plain": [
       "<Figure size 1152x432 with 1 Axes>"
      ]
     },
     "metadata": {
      "needs_background": "light"
     },
     "output_type": "display_data"
    }
   ],
   "source": [
    "importances = model.feature_importances_\n",
    "feature_importance = pd.Series(importances, index=X_train.columns).sort_values(ascending=False)\n",
    "plt.figure(figsize=(16,6))\n",
    "plt.bar(feature_importance.index, feature_importance.values)\n",
    "plt.grid()\n",
    "plt.show()"
   ]
  },
  {
   "cell_type": "markdown",
   "id": "4e3e90c2",
   "metadata": {},
   "source": [
    "#### Optimisation"
   ]
  },
  {
   "cell_type": "code",
   "execution_count": 1072,
   "id": "90e418f0",
   "metadata": {},
   "outputs": [
    {
     "name": "stdout",
     "output_type": "stream",
     "text": [
      "{'max_depth': 4, 'n_estimators': 200}\n"
     ]
    }
   ],
   "source": [
    "model = RandomForestClassifier(random_state=0)\n",
    "\n",
    "parameters = {'n_estimators' : [50,100,200],\n",
    "          'max_depth' : [i for i in range(4,31)]}\n",
    "GSCV = GridSearchCV(model, parameters, cv=kf)\n",
    "GSCV.fit(X_train, Y_train)\n",
    "print(GSCV.best_params_)"
   ]
  },
  {
   "cell_type": "code",
   "execution_count": 1073,
   "id": "7f89ca4a",
   "metadata": {},
   "outputs": [
    {
     "data": {
      "image/png": "[encoded data removed]",
      "text/plain": [
       "<Figure size 864x576 with 1 Axes>"
      ]
     },
     "metadata": {
      "needs_background": "light"
     },
     "output_type": "display_data"
    }
   ],
   "source": [
    "model_rf = GSCV.best_estimator_\n",
    "evaluation(model_rf, X_train, Y_train)"
   ]
  },
  {
   "cell_type": "code",
   "execution_count": 1074,
   "id": "d5bd8414",
   "metadata": {},
   "outputs": [
    {
     "name": "stdout",
     "output_type": "stream",
     "text": [
      "              precision    recall  f1-score   support\n",
      "\n",
      "           0       0.76      0.91      0.83        35\n",
      "           1       0.84      0.62      0.71        26\n",
      "\n",
      "    accuracy                           0.79        61\n",
      "   macro avg       0.80      0.76      0.77        61\n",
      "weighted avg       0.80      0.79      0.78        61\n",
      "\n"
     ]
    }
   ],
   "source": [
    "model_rf.fit(X_train, Y_train)\n",
    "preds = model_rf.predict(X_test)\n",
    "print(classification_report(Y_test, preds))"
   ]
  },
  {
   "cell_type": "markdown",
   "id": "e26849e0",
   "metadata": {},
   "source": [
    "### SVC"
   ]
  },
  {
   "cell_type": "code",
   "execution_count": 1075,
   "id": "65ce3542",
   "metadata": {},
   "outputs": [],
   "source": [
    "from sklearn.svm import SVC"
   ]
  },
  {
   "cell_type": "code",
   "execution_count": 1076,
   "id": "d5c15e65",
   "metadata": {},
   "outputs": [
    {
     "data": {
      "image/png": "[encoded data removed]",
      "text/plain": [
       "<Figure size 864x576 with 1 Axes>"
      ]
     },
     "metadata": {
      "needs_background": "light"
     },
     "output_type": "display_data"
    }
   ],
   "source": [
    "model = SVC(kernel='rbf', random_state=0)\n",
    "evaluation(model, X_train, Y_train)"
   ]
  },
  {
   "cell_type": "markdown",
   "id": "9f1e8438",
   "metadata": {},
   "source": [
    "#### Optimisation"
   ]
  },
  {
   "cell_type": "code",
   "execution_count": 1077,
   "id": "fa2d154c",
   "metadata": {},
   "outputs": [],
   "source": [
    "from sklearn.model_selection import RandomizedSearchCV\n",
    "from scipy.stats import randint, uniform"
   ]
  },
  {
   "cell_type": "code",
   "execution_count": 1078,
   "id": "f261a028",
   "metadata": {},
   "outputs": [
    {
     "name": "stdout",
     "output_type": "stream",
     "text": [
      "Fitting 5 folds for each of 200 candidates, totalling 1000 fits\n",
      "{'C': 4.575964198897843, 'gamma': 'scale', 'kernel': 'linear'}\n",
      "0.825086765086765\n"
     ]
    }
   ],
   "source": [
    "model = SVC(random_state=0, probability=True)\n",
    "parameters = {\n",
    "    'C': uniform(0.01,100),  # Valeurs de C entre 0.001 et 1000\n",
    "    'kernel': ['linear', 'rbf', 'poly'],  # Types de noyaux\n",
    "    'gamma': ['scale', 'auto']   # Valeurs de gamma\n",
    "}\n",
    "random_search = RandomizedSearchCV(model, param_distributions=parameters, n_iter=200,\n",
    "                                   cv=kf, verbose=1, random_state=0, scoring='f1')\n",
    "\n",
    "# Ajuster le modèle\n",
    "random_search.fit(X_train, Y_train)\n",
    "print(random_search.best_params_)\n",
    "print(random_search.best_score_)"
   ]
  },
  {
   "cell_type": "code",
   "execution_count": 1079,
   "id": "89aa5467",
   "metadata": {},
   "outputs": [
    {
     "data": {
      "image/png": "[encoded data removed]",
      "text/plain": [
       "<Figure size 864x576 with 1 Axes>"
      ]
     },
     "metadata": {
      "needs_background": "light"
     },
     "output_type": "display_data"
    }
   ],
   "source": [
    "model_svc = random_search.best_estimator_\n",
    "evaluation(model_svc, X_train, Y_train)"
   ]
  },
  {
   "cell_type": "code",
   "execution_count": 1080,
   "id": "b98ff8c9",
   "metadata": {},
   "outputs": [
    {
     "name": "stdout",
     "output_type": "stream",
     "text": [
      "              precision    recall  f1-score   support\n",
      "\n",
      "           0       0.75      0.86      0.80        35\n",
      "           1       0.76      0.62      0.68        26\n",
      "\n",
      "    accuracy                           0.75        61\n",
      "   macro avg       0.76      0.74      0.74        61\n",
      "weighted avg       0.76      0.75      0.75        61\n",
      "\n"
     ]
    }
   ],
   "source": [
    "model_svc.fit(X_train, Y_train)\n",
    "preds = model_svc.predict(X_test)\n",
    "print(classification_report(Y_test, preds))"
   ]
  },
  {
   "cell_type": "markdown",
   "id": "b0e97598",
   "metadata": {},
   "source": [
    "### MLP"
   ]
  },
  {
   "cell_type": "code",
   "execution_count": 1081,
   "id": "15816ba3",
   "metadata": {},
   "outputs": [],
   "source": [
    "from sklearn.neural_network import MLPClassifier"
   ]
  },
  {
   "cell_type": "code",
   "execution_count": 1082,
   "id": "77fdfb05",
   "metadata": {},
   "outputs": [
    {
     "name": "stderr",
     "output_type": "stream",
     "text": [
      "c:\\users\\jmv\\miniconda3\\lib\\site-packages\\sklearn\\model_selection\\_search.py:296: UserWarning: The total space of parameters 54 is smaller than n_iter=200. Running 54 iterations. For exhaustive searches, use GridSearchCV.\n",
      "  UserWarning,\n"
     ]
    },
    {
     "name": "stdout",
     "output_type": "stream",
     "text": [
      "{'solver': 'adam', 'hidden_layer_sizes': (16,), 'activation': 'tanh'}\n",
      "0.8595013230643461\n"
     ]
    }
   ],
   "source": [
    "model = MLPClassifier(max_iter=2000, random_state=0)\n",
    "\n",
    "parameters = {\n",
    "    'hidden_layer_sizes': [(32,), (32,8), (32,16), (16, 8), (16, 16), (16,), (48,8), (48,16),(48,32)], \n",
    "    'activation': ['logistic', 'tanh', 'relu'],         \n",
    "    'solver': ['adam', 'lbfgs'],                 \n",
    "}\n",
    "\n",
    "random_search = RandomizedSearchCV(\n",
    "    estimator=model,\n",
    "    param_distributions=parameters,\n",
    "    scoring='f1',   \n",
    "    n_iter=200,           \n",
    "    cv=5,\n",
    "    random_state=0,\n",
    "    n_jobs=-1\n",
    ")\n",
    "\n",
    "random_search.fit(X_train, Y_train)\n",
    "print(random_search.best_params_)\n",
    "print(random_search.best_score_)"
   ]
  },
  {
   "cell_type": "code",
   "execution_count": 1083,
   "id": "fbd08ddf",
   "metadata": {},
   "outputs": [
    {
     "data": {
      "image/png": "[encoded data removed]",
      "text/plain": [
       "<Figure size 864x576 with 1 Axes>"
      ]
     },
     "metadata": {
      "needs_background": "light"
     },
     "output_type": "display_data"
    }
   ],
   "source": [
    "model_mlp = random_search.best_estimator_\n",
    "evaluation(model_mlp, X_train, Y_train)"
   ]
  },
  {
   "cell_type": "code",
   "execution_count": 1084,
   "id": "91927faf",
   "metadata": {},
   "outputs": [
    {
     "name": "stdout",
     "output_type": "stream",
     "text": [
      "              precision    recall  f1-score   support\n",
      "\n",
      "           0       0.82      0.77      0.79        35\n",
      "           1       0.71      0.77      0.74        26\n",
      "\n",
      "    accuracy                           0.77        61\n",
      "   macro avg       0.77      0.77      0.77        61\n",
      "weighted avg       0.77      0.77      0.77        61\n",
      "\n"
     ]
    }
   ],
   "source": [
    "model_mlp.fit(X_train, Y_train)\n",
    "preds = model_mlp.predict(X_test)\n",
    "print(classification_report(Y_test, preds))"
   ]
  },
  {
   "cell_type": "markdown",
   "id": "6b9b1f80",
   "metadata": {},
   "source": [
    "### XGBoost"
   ]
  },
  {
   "cell_type": "code",
   "execution_count": 1085,
   "id": "ccceb97d",
   "metadata": {},
   "outputs": [],
   "source": [
    "import xgboost as xgb"
   ]
  },
  {
   "cell_type": "code",
   "execution_count": 1086,
   "id": "76713785",
   "metadata": {},
   "outputs": [
    {
     "name": "stdout",
     "output_type": "stream",
     "text": [
      "{'colsample_bytree': 0.8575193337552423, 'learning_rate': 0.15983396743054495, 'max_depth': 2, 'n_estimators': 84, 'subsample': 0.8154295038040158}\n",
      "0.8275378368401624\n"
     ]
    }
   ],
   "source": [
    "model = xgb.XGBClassifier(random_state=0)\n",
    "\n",
    "param_distributions = { \n",
    "    'n_estimators': randint(30, 100),               \n",
    "    'learning_rate': uniform(0.01, 0.2),           \n",
    "    'max_depth': randint(2, 10),                     \n",
    "    'subsample': uniform(0.8, 0.15),               \n",
    "    'colsample_bytree': uniform(0.8, 0.15)}\n",
    "\n",
    "random_search = RandomizedSearchCV(\n",
    "    estimator=model,\n",
    "    param_distributions=param_distributions,\n",
    "    scoring='f1',   \n",
    "    n_iter=200,           \n",
    "    cv=5,\n",
    "    random_state=0,\n",
    "    n_jobs=-1\n",
    ")\n",
    "\n",
    "random_search.fit(X_train, Y_train)\n",
    "print(random_search.best_params_)\n",
    "print(random_search.best_score_)"
   ]
  },
  {
   "cell_type": "code",
   "execution_count": 1087,
   "id": "06ac9f6c",
   "metadata": {},
   "outputs": [
    {
     "data": {
      "image/png": "[encoded data removed]",
      "text/plain": [
       "<Figure size 864x576 with 1 Axes>"
      ]
     },
     "metadata": {
      "needs_background": "light"
     },
     "output_type": "display_data"
    }
   ],
   "source": [
    "model_xgb = random_search.best_estimator_\n",
    "evaluation(model_xgb, X_train, Y_train)"
   ]
  },
  {
   "cell_type": "code",
   "execution_count": 1088,
   "id": "b9a34e20",
   "metadata": {},
   "outputs": [
    {
     "name": "stdout",
     "output_type": "stream",
     "text": [
      "              precision    recall  f1-score   support\n",
      "\n",
      "           0       0.77      0.86      0.81        35\n",
      "           1       0.77      0.65      0.71        26\n",
      "\n",
      "    accuracy                           0.77        61\n",
      "   macro avg       0.77      0.76      0.76        61\n",
      "weighted avg       0.77      0.77      0.77        61\n",
      "\n"
     ]
    }
   ],
   "source": [
    "model_xgb.fit(X_train, Y_train)\n",
    "preds = model_xgb.predict(X_test)\n",
    "print(classification_report(Y_test, preds))"
   ]
  },
  {
   "cell_type": "markdown",
   "id": "d361cbaa",
   "metadata": {},
   "source": [
    "### Stacking"
   ]
  },
  {
   "cell_type": "code",
   "execution_count": 1099,
   "id": "7724e802",
   "metadata": {},
   "outputs": [
    {
     "name": "stdout",
     "output_type": "stream",
     "text": [
      "              precision    recall  f1-score   support\n",
      "\n",
      "           0       0.81      0.83      0.82        35\n",
      "           1       0.76      0.73      0.75        26\n",
      "\n",
      "    accuracy                           0.79        61\n",
      "   macro avg       0.78      0.78      0.78        61\n",
      "weighted avg       0.79      0.79      0.79        61\n",
      "\n"
     ]
    }
   ],
   "source": [
    "from sklearn.ensemble import StackingClassifier\n",
    "\n",
    "meta_model = LogisticRegression(C= 1, solver = 'liblinear')\n",
    "\n",
    "model_stacking = StackingClassifier(\n",
    "    estimators=[('mlp', model_mlp), ('xgb', model_xgb), ('rf', model_rf)],\n",
    "    final_estimator=meta_model,\n",
    "    cv=5)\n",
    "\n",
    "model_stacking.fit(X_train, Y_train)\n",
    "\n",
    "y_pred = model_stacking.predict(X_test)\n",
    "\n",
    "print(classification_report(Y_test, y_pred))"
   ]
  },
  {
   "cell_type": "markdown",
   "id": "dde507df",
   "metadata": {},
   "source": [
    "## Courbes ROC"
   ]
  },
  {
   "cell_type": "code",
   "execution_count": 1100,
   "id": "bbdea561",
   "metadata": {
    "scrolled": false
   },
   "outputs": [
    {
     "data": {
      "image/png": "[encoded data removed]",
      "text/plain": [
       "<Figure size 720x576 with 1 Axes>"
      ]
     },
     "metadata": {
      "needs_background": "light"
     },
     "output_type": "display_data"
    },
    {
     "name": "stdout",
     "output_type": "stream",
     "text": [
      "Classification Report for Random Forest:\n",
      "              precision    recall  f1-score   support\n",
      "\n",
      "           0       0.93      0.71      0.81        35\n",
      "           1       0.71      0.92      0.80        26\n",
      "\n",
      "    accuracy                           0.80        61\n",
      "   macro avg       0.82      0.82      0.80        61\n",
      "weighted avg       0.83      0.80      0.80        61\n",
      "\n",
      "\n",
      "Classification Report for SVC:\n",
      "              precision    recall  f1-score   support\n",
      "\n",
      "           0       0.87      0.74      0.80        35\n",
      "           1       0.71      0.85      0.77        26\n",
      "\n",
      "    accuracy                           0.79        61\n",
      "   macro avg       0.79      0.79      0.79        61\n",
      "weighted avg       0.80      0.79      0.79        61\n",
      "\n",
      "\n",
      "Classification Report for MLP:\n",
      "              precision    recall  f1-score   support\n",
      "\n",
      "           0       0.87      0.74      0.80        35\n",
      "           1       0.71      0.85      0.77        26\n",
      "\n",
      "    accuracy                           0.79        61\n",
      "   macro avg       0.79      0.79      0.79        61\n",
      "weighted avg       0.80      0.79      0.79        61\n",
      "\n",
      "\n",
      "Classification Report for XGB:\n",
      "              precision    recall  f1-score   support\n",
      "\n",
      "           0       0.87      0.74      0.80        35\n",
      "           1       0.71      0.85      0.77        26\n",
      "\n",
      "    accuracy                           0.79        61\n",
      "   macro avg       0.79      0.79      0.79        61\n",
      "weighted avg       0.80      0.79      0.79        61\n",
      "\n",
      "\n",
      "Classification Report for Stacking:\n",
      "              precision    recall  f1-score   support\n",
      "\n",
      "           0       0.96      0.69      0.80        35\n",
      "           1       0.69      0.96      0.81        26\n",
      "\n",
      "    accuracy                           0.80        61\n",
      "   macro avg       0.83      0.82      0.80        61\n",
      "weighted avg       0.85      0.80      0.80        61\n",
      "\n",
      "\n"
     ]
    }
   ],
   "source": [
    "from sklearn.datasets import make_classification\n",
    "from sklearn.metrics import roc_curve, auc, classification_report\n",
    "\n",
    "# Initialiser les modèles\n",
    "models = {\n",
    "    #'Logistic Regression': model_lr,\n",
    "    'Random Forest': model_rf,\n",
    "    'SVC': model_svc,\n",
    "    'MLP': model_mlp,\n",
    "    'XGB': model_xgb,\n",
    "    'Stacking': model_stacking\n",
    "}\n",
    "\n",
    "# Dictionnaire pour stocker les courbes ROC et les seuils\n",
    "roc_curves = {}\n",
    "classification_reports = {}\n",
    "\n",
    "# Entraîner les modèles et calculer les courbes ROC\n",
    "for model_name, model in models.items():\n",
    "    y_prob = model.predict_proba(X_test)[:, 1]  # Obtenir les probabilités pour la classe positive\n",
    "    fpr, tpr, thresholds = roc_curve(Y_test, y_prob)  # Calculer la courbe ROC\n",
    "    roc_auc = auc(fpr, tpr)  # Calculer l'aire sous la courbe\n",
    "    \n",
    "    # Calculer le meilleur seuil (maximisation du score F1)\n",
    "    f1_scores = 2 * (tpr * (1 - fpr)) / (tpr + (1 - fpr))\n",
    "    best_threshold = thresholds[np.argmax(f1_scores)]\n",
    "    \n",
    "    # Prédictions basées sur le meilleur seuil\n",
    "    y_pred = (y_prob >= best_threshold).astype(int)\n",
    "    \n",
    "    # Rapport de classification\n",
    "    classification_reports[model_name] = classification_report(Y_test, y_pred)\n",
    "    \n",
    "    # Stocker les résultats\n",
    "    roc_curves[model_name] = (fpr, tpr, roc_auc, best_threshold)\n",
    "\n",
    "# Tracer les courbes ROC\n",
    "plt.figure(figsize=(10, 8))\n",
    "for model_name, (fpr, tpr, roc_auc, _) in roc_curves.items():\n",
    "    plt.plot(fpr, tpr, label=f'{model_name} (AUC = {roc_auc:.2f})')\n",
    "\n",
    "# Tracer la diagonale (chance)\n",
    "plt.plot([0, 1], [0, 1], 'k--', label='Random Chance')\n",
    "\n",
    "# Ajouter des détails au graphique\n",
    "plt.xlim([0.0, 1.0])\n",
    "plt.ylim([0.0, 1.0])\n",
    "plt.xlabel('False Positive Rate')\n",
    "plt.ylabel('True Positive Rate')\n",
    "plt.title('Receiver Operating Characteristic (ROC) Curves')\n",
    "plt.legend(loc='lower right')\n",
    "plt.grid()\n",
    "plt.show()\n",
    "\n",
    "# Afficher les rapports de classification\n",
    "for model_name, report in classification_reports.items():\n",
    "    print(f'Classification Report for {model_name}:\\n{report}\\n')\n"
   ]
  },
  {
   "cell_type": "markdown",
   "id": "67e262f6",
   "metadata": {},
   "source": [
    "Le modèle de Stacking s'avère être le plus performant **(f1 = 81%, recall = 96% et accuracy = 80%)**. Tous les modèles sont bons (AUC >= 0.86), les courbes sont similaires ce qui indique que les modèles ont des performances comparables et que le choix du modèle n'est pas vraiment significatif pour traiter ce jeu de données."
   ]
  },
  {
   "cell_type": "markdown",
   "id": "831bcd2e",
   "metadata": {},
   "source": [
    "#  **L'objectif f1>80% a été accompli**"
   ]
  }
 ],
 "metadata": {
  "kernelspec": {
   "display_name": "Python 3 (ipykernel)",
   "language": "python",
   "name": "python3"
  },
  "language_info": {
   "codemirror_mode": {
    "name": "ipython",
    "version": 3
   },
   "file_extension": ".py",
   "mimetype": "text/x-python",
   "name": "python",
   "nbconvert_exporter": "python",
   "pygments_lexer": "ipython3",
   "version": "3.7.4"
  }
 },
 "nbformat": 4,
 "nbformat_minor": 5
}
